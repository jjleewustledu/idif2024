{
 "cells": [
  {
   "cell_type": "markdown",
   "source": [
    "# Huang1980AndArtery for Image-Derived Input Functions and Twilite Data\n"
   ],
   "metadata": {
    "collapsed": false
   },
   "id": "362fa90fac6d39b0"
  },
  {
   "cell_type": "markdown",
   "source": [
    "## Setup"
   ],
   "metadata": {
    "collapsed": false
   },
   "id": "d1bc876f00c86831"
  },
  {
   "cell_type": "code",
   "source": [
    "# system functions that are always useful to have\n",
    "import time, sys, os\n",
    "from pprint import pprint\n",
    "\n",
    "# basic numeric setup\n",
    "import numpy as np\n",
    "\n",
    "from Huang1980ModelAndArtery import Huang1980ModelAndArtery"
   ],
   "metadata": {
    "collapsed": false,
    "ExecuteTime": {
     "end_time": "2024-02-29T05:48:00.559572Z",
     "start_time": "2024-02-29T05:48:00.040013Z"
    }
   },
   "id": "ba221cabcbc6f99a",
   "execution_count": 1,
   "outputs": []
  },
  {
   "cell_type": "code",
   "source": [
    "# define data & models\n",
    "petdir = os.path.join(os.getenv(\"HOME\"), \"PycharmProjects\", \"dynesty\", \"idif2024\", \"data\", \"ses-20210421155709\", \"pet\")\n",
    "idif = os.path.join(petdir, \"sub-108293_ses-20210421155709_trc-fdg_proc-MipIdif_idif.nii.gz\")\n",
    "twil = os.path.join(petdir, \"sub-108293_ses-20210421155709_trc-fdg_proc-TwiliteKit-do-make-input-func-nomodel_inputfunc.nii.gz\")\n",
    "kern = os.path.join(petdir, \"kernel_hct=46.8.nii.gz\")\n",
    "pet = os.path.join(petdir, \"sub-108293_ses-20210421155709_trc-fdg_proc-delay0-BrainMoCo2-createNiftiMovingAvgFrames-ParcSchaeffer-reshape-to-schaeffer-2parcs.nii.gz\")  # 1st two Schaeffer parcels\n",
    "# pet = os.path.join(petdir, \"sub-108293_ses-20210421155709_trc-fdg_proc-delay0-BrainMoCo2-createNiftiMovingAvgFrames-ParcSchaeffer-reshape-to-schaeffer-schaeffer.nii.gz\")  # 309 parcels from Schaeffer\n",
    "\n",
    "tcm_bc = Huang1980ModelAndArtery(\n",
    "    idif, \n",
    "    pet,\n",
    "    truths=[      \n",
    "        13.2, 20.8, 59.5, 0.272, 6.25, 2.56, -1.21, -0.654, 11.7, 0.0678, 0.0466, 0.0389, 2.44, 0.0222,\n",
    "        0.069, 0.003, 0.002, 0.000, 12.468, -9.492, 0.020],\n",
    "    nlive=100)\n",
    "tcm_ra = Huang1980ModelAndArtery(\n",
    "    twil, \n",
    "    pet,\n",
    "    truths=[\n",
    "        21.0, 5.04, 16.8, 3.36, 11.1, 9.00, -1.50, -2.70, 23.7, 0.193, 0.0634, 0.0602, 2.49,0.0402,\n",
    "        0.069, 0.003, 0.002, 0.000, 12.468, -9.492, 0.020],\n",
    "    nlive=100)"
   ],
   "metadata": {
    "collapsed": false,
    "ExecuteTime": {
     "end_time": "2024-02-29T05:48:00.585985Z",
     "start_time": "2024-02-29T05:48:00.560543Z"
    }
   },
   "id": "d423b513e51290f3",
   "execution_count": 2,
   "outputs": []
  },
  {
   "cell_type": "markdown",
   "source": [
    "## Inspect Huang1980ModelAndArtery with Boxcar"
   ],
   "metadata": {
    "collapsed": false
   },
   "id": "e343790186b626a"
  },
  {
   "cell_type": "code",
   "source": [
    "v = tcm_bc.truths\n",
    "pprint(\"===================================== v ======================================\")\n",
    "pprint(v)\n",
    "\n",
    "data = tcm_bc.data(v)\n",
    "pprint(\"==================================== data ====================================\")\n",
    "pprint(data)"
   ],
   "metadata": {
    "collapsed": false,
    "ExecuteTime": {
     "end_time": "2024-02-29T05:48:00.596379Z",
     "start_time": "2024-02-29T05:48:00.586656Z"
    }
   },
   "id": "bb04b5521ac8a607",
   "execution_count": 3,
   "outputs": []
  },
  {
   "cell_type": "code",
   "source": [
    "pprint(\"============================== tcm_bc.data2t(data) ===============================\")\n",
    "pprint(tcm_bc.data2t(data))\n",
    "pprint(\"============================= tcm_bc.data2taus(data) =============================\")\n",
    "pprint(tcm_bc.data2taus(data))\n",
    "pprint(\"=========================== tcm_bc.data2timesMid(data) ===========================\")\n",
    "pprint(tcm_bc.data2timesMid(data))\n",
    "pprint(\"================================== tcm_bc.fqfp ===================================\")\n",
    "pprint(tcm_bc.fqfp)\n",
    "pprint(\"========================== tcm_bc.input_function() =========================\")\n",
    "pprint(tcm_bc.input_function())\n",
    "pprint(\"================================= tcm_bc.labels ==================================\")\n",
    "pprint(tcm_bc.labels)\n",
    "pprint(\"====================== tcm_bc.load_nii(tcm_bc.fqfp + '.nii.gz') ======================\")\n",
    "pprint(tcm_bc.load_nii(tcm_bc.fqfp + \".nii.gz\"))\n",
    "pprint(\"=============================== tcm_bc.loglike(v) ================================\")\n",
    "pprint(tcm_bc.loglike(v))\n",
    "pprint(\"================================== tcm_bc.ndim ===================================\")\n",
    "pprint(tcm_bc.ndim)\n",
    "pprint(\"========================= tcm_bc.parse_halflife(tcm_bc.fqfp) =========================\")\n",
    "pprint(tcm_bc.parse_halflife(tcm_bc.fqfp))\n",
    "pprint(\"========================= tcm_bc.parse_isotope(tcm_bc.fqfp) ==========================\")\n",
    "pprint(tcm_bc.parse_isotope(tcm_bc.fqfp))\n",
    "pprint(\"================================== tcm_bc.sigma ==================================\")\n",
    "pprint(tcm_bc.sigma)\n",
    "pprint(\"============================ tcm_bc.signalmodel(data) ============================\")\n",
    "pprint(tcm_bc.signalmodel(data))"
   ],
   "metadata": {
    "collapsed": false,
    "ExecuteTime": {
     "end_time": "2024-02-29T05:48:00.615676Z",
     "start_time": "2024-02-29T05:48:00.597511Z"
    }
   },
   "id": "576b095cc6eceffe",
   "execution_count": 4,
   "outputs": []
  },
  {
   "cell_type": "markdown",
   "source": [
    "## Plot Huang1980ModelAndArtery with Boxcar"
   ],
   "metadata": {
    "collapsed": false
   },
   "id": "7d6d4379edb29667"
  },
  {
   "cell_type": "code",
   "source": [
    "tcm_bc.plot_truths()"
   ],
   "metadata": {
    "collapsed": false,
    "ExecuteTime": {
     "end_time": "2024-02-29T05:48:00.802618Z",
     "start_time": "2024-02-29T05:48:00.616291Z"
    }
   },
   "id": "4d8916d6b6938779",
   "execution_count": 5,
   "outputs": []
  },
  {
   "cell_type": "code",
   "source": [
    "tcm_bc.plot_variations(18, -10, 10 , tcm_bc.truths)"
   ],
   "metadata": {
    "collapsed": false,
    "ExecuteTime": {
     "end_time": "2024-02-29T05:48:01.011160Z",
     "start_time": "2024-02-29T05:48:00.803351Z"
    }
   },
   "id": "dbe964fb2c373a25",
   "execution_count": 6,
   "outputs": []
  },
  {
   "cell_type": "markdown",
   "source": [
    "Let's sample from this distribution using the default `dynesty` settings with `'slice'`."
   ],
   "metadata": {
    "collapsed": false
   },
   "id": "3a95509c7dd19416"
  },
  {
   "cell_type": "code",
   "source": [
    "# de novo\n",
    "res_bc = tcm_bc.run_nested(print_progress=True)\n",
    "\n",
    "# # restart\n",
    "# sampler = dynesty.DynamicNestedSampler.restore(tcm_bc.fqfp+\"_dynesty-Boxcar-20240122210738.save\")\n",
    "# sampler.run_nested(resume=True, print_progress=True)\n",
    "# res = sampler.results"
   ],
   "metadata": {
    "collapsed": false,
    "ExecuteTime": {
     "end_time": "2024-02-29T06:36:23.374540Z",
     "start_time": "2024-02-29T05:48:01.011859Z"
    }
   },
   "id": "39013d92043865d3",
   "execution_count": 7,
   "outputs": []
  },
  {
   "cell_type": "markdown",
   "source": [
    "## Inspect Huang1980ModelAndArtery with RadialArtery"
   ],
   "metadata": {
    "collapsed": false
   },
   "id": "7244635ee28eb02e"
  },
  {
   "cell_type": "code",
   "source": [
    "v = tcm_ra.truths\n",
    "pprint(\"===================================== v ======================================\")\n",
    "pprint(v)\n",
    "\n",
    "data = tcm_ra.data(v)\n",
    "pprint(\"==================================== data ====================================\")\n",
    "pprint(data)"
   ],
   "metadata": {
    "collapsed": false,
    "ExecuteTime": {
     "end_time": "2024-02-29T06:36:23.375423Z",
     "start_time": "2024-02-29T06:36:23.375374Z"
    }
   },
   "id": "f9e1a040a706d6",
   "execution_count": null,
   "outputs": []
  },
  {
   "cell_type": "code",
   "source": [
    "pprint(\"============================== tcm_ra.data2t(data) ===============================\")\n",
    "pprint(tcm_ra.data2t(data))\n",
    "pprint(\"============================= tcm_ra.data2taus(data) =============================\")\n",
    "pprint(tcm_ra.data2taus(data))\n",
    "pprint(\"=========================== tcm_ra.data2timesMid(data) ===========================\")\n",
    "pprint(tcm_ra.data2timesMid(data))\n",
    "pprint(\"================================== tcm_ra.fqfp ===================================\")\n",
    "pprint(tcm_ra.fqfp)\n",
    "pprint(\"========================== tcm_ra.input_function() =========================\")\n",
    "pprint(tcm_ra.input_function())\n",
    "pprint(\"================================= tcm_ra.labels ==================================\")\n",
    "pprint(tcm_ra.labels)\n",
    "pprint(\"====================== tcm_ra.load_nii(tcm_ra.fqfp + '.nii.gz') ======================\")\n",
    "pprint(tcm_ra.load_nii(tcm_ra.fqfp + \".nii.gz\"))\n",
    "pprint(\"=============================== tcm_ra.loglike(v) ================================\")\n",
    "pprint(tcm_ra.loglike(v))\n",
    "pprint(\"================================== tcm_ra.ndim ===================================\")\n",
    "pprint(tcm_ra.ndim)\n",
    "pprint(\"========================= tcm_ra.parse_halflife(tcm_ra.fqfp) =========================\")\n",
    "pprint(tcm_ra.parse_halflife(tcm_ra.fqfp))\n",
    "pprint(\"========================= tcm_ra.parse_isotope(tcm_ra.fqfp) ==========================\")\n",
    "pprint(tcm_ra.parse_isotope(tcm_ra.fqfp))\n",
    "pprint(\"================================== tcm_ra.sigma ==================================\")\n",
    "pprint(tcm_ra.sigma)\n",
    "pprint(\"============================ tcm_ra.signalmodel(data) ============================\")\n",
    "pprint(tcm_ra.signalmodel(data))"
   ],
   "metadata": {
    "collapsed": false
   },
   "id": "d346bc593053e089",
   "execution_count": null,
   "outputs": []
  },
  {
   "cell_type": "markdown",
   "source": [
    "## Plot Huang1980ModelAndArtery with RadialArtery"
   ],
   "metadata": {
    "collapsed": false
   },
   "id": "ad045e356e92b2bd"
  },
  {
   "cell_type": "code",
   "source": [
    "tcm_ra.plot_truths()"
   ],
   "metadata": {
    "collapsed": false
   },
   "id": "54d05907d4ba6afe",
   "execution_count": null,
   "outputs": []
  },
  {
   "cell_type": "code",
   "source": [
    "tcm_ra.plot_variations(0, 0.0022, 0.017 , tcm_ra.truths)"
   ],
   "metadata": {
    "collapsed": false
   },
   "id": "61b77d77af6cf3cc",
   "execution_count": null,
   "outputs": []
  },
  {
   "cell_type": "markdown",
   "source": [
    "Let's sample from this distribution using the default `dynesty` settings with `'slice'`."
   ],
   "metadata": {
    "collapsed": false
   },
   "id": "657300e74cea1c9a"
  },
  {
   "cell_type": "code",
   "source": [
    "# de novo\n",
    "res_ra = tcm_ra.run_nested(print_progress=True)\n",
    "\n",
    "# # restart\n",
    "# sampler = dynesty.DynamicNestedSampler.restore(tcm_ra.fqfp+\"_dynesty-Boxcar-20240122210738.save\")\n",
    "# sampler.run_nested(resume=True, print_progress=True)\n",
    "# res = sampler.results"
   ],
   "metadata": {
    "collapsed": false
   },
   "id": "ef854254fb17463b",
   "execution_count": null,
   "outputs": []
  }
 ],
 "metadata": {
  "kernelspec": {
   "display_name": "Python 3",
   "language": "python",
   "name": "python3"
  },
  "language_info": {
   "codemirror_mode": {
    "name": "ipython",
    "version": 2
   },
   "file_extension": ".py",
   "mimetype": "text/x-python",
   "name": "python",
   "nbconvert_exporter": "python",
   "pygments_lexer": "ipython2",
   "version": "2.7.6"
  }
 },
 "nbformat": 4,
 "nbformat_minor": 5
}
