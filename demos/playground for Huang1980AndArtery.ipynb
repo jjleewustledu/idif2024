{
 "cells": [
  {
   "cell_type": "markdown",
   "id": "362fa90fac6d39b0",
   "metadata": {
    "collapsed": false
   },
   "source": [
    "# Huang1980AndArtery for Image-Derived Input Functions and Twilite Data\n"
   ]
  },
  {
   "cell_type": "markdown",
   "id": "d1bc876f00c86831",
   "metadata": {
    "collapsed": false
   },
   "source": [
    "## Setup"
   ]
  },
  {
   "cell_type": "code",
   "execution_count": 1,
   "id": "ba221cabcbc6f99a",
   "metadata": {
    "ExecuteTime": {
     "end_time": "2024-02-29T05:48:00.559572Z",
     "start_time": "2024-02-29T05:48:00.040013Z"
    },
    "collapsed": false
   },
   "outputs": [],
   "source": [
    "# system functions that are always useful to have\n",
    "import time, sys, os\n",
    "from pprint import pprint\n",
    "\n",
    "# basic numeric setup\n",
    "import numpy as np\n",
    "\n",
    "from Huang1980ModelAndArtery import Huang1980ModelAndArtery"
   ]
  },
  {
   "cell_type": "code",
   "execution_count": 2,
   "id": "d423b513e51290f3",
   "metadata": {
    "ExecuteTime": {
     "end_time": "2024-02-29T05:48:00.585985Z",
     "start_time": "2024-02-29T05:48:00.560543Z"
    },
    "collapsed": false
   },
   "outputs": [],
   "source": [
    "# define data & models\n",
    "petdir = os.path.join(os.getenv(\"HOME\"), \"PycharmProjects\", \"dynesty\", \"idif2024\", \"data\", \"ses-20210421155709\", \"pet\")\n",
    "idif = os.path.join(petdir, \"sub-108293_ses-20210421155709_trc-fdg_proc-MipIdif_idif.nii.gz\")\n",
    "twil = os.path.join(petdir, \"sub-108293_ses-20210421155709_trc-fdg_proc-TwiliteKit-do-make-input-func-nomodel_inputfunc.nii.gz\")\n",
    "kern = os.path.join(petdir, \"kernel_hct=46.8.nii.gz\")\n",
    "pet = os.path.join(petdir, \"sub-108293_ses-20210421155709_trc-fdg_proc-delay0-BrainMoCo2-createNiftiMovingAvgFrames-ParcSchaeffer-reshape-to-schaeffer-2parcs.nii.gz\")  # 1st two Schaeffer parcels\n",
    "# pet = os.path.join(petdir, \"sub-108293_ses-20210421155709_trc-fdg_proc-delay0-BrainMoCo2-createNiftiMovingAvgFrames-ParcSchaeffer-reshape-to-schaeffer-schaeffer.nii.gz\")  # 309 parcels from Schaeffer\n",
    "\n",
    "tcm_bc = Huang1980ModelAndArtery(\n",
    "    idif, \n",
    "    pet,\n",
    "    truths=[      \n",
    "        13.2, 20.8, 59.5, 0.272, 6.25, 2.56, -1.21, -0.654, 11.7, 0.0678, 0.0466, 0.0389, 2.44, 0.0222,\n",
    "        0.069, 0.003, 0.002, 0.000, 12.468, -9.492, 0.020],\n",
    "    nlive=100)\n",
    "tcm_ra = Huang1980ModelAndArtery(\n",
    "    twil, \n",
    "    pet,\n",
    "    truths=[\n",
    "        21.0, 5.04, 16.8, 3.36, 11.1, 9.00, -1.50, -2.70, 23.7, 0.193, 0.0634, 0.0602, 2.49,0.0402,\n",
    "        0.069, 0.003, 0.002, 0.000, 12.468, -9.492, 0.020],\n",
    "    nlive=100)"
   ]
  },
  {
   "cell_type": "markdown",
   "id": "e343790186b626a",
   "metadata": {
    "collapsed": false
   },
   "source": [
    "## Inspect Huang1980ModelAndArtery with Boxcar"
   ]
  },
  {
   "cell_type": "code",
   "execution_count": 3,
   "id": "bb04b5521ac8a607",
   "metadata": {
    "ExecuteTime": {
     "end_time": "2024-02-29T05:48:00.596379Z",
     "start_time": "2024-02-29T05:48:00.586656Z"
    },
    "collapsed": false
   },
   "outputs": [],
   "source": [
    "v = tcm_bc.truths\n",
    "pprint(\"===================================== v ======================================\")\n",
    "pprint(v)\n",
    "\n",
    "data = tcm_bc.data(v)\n",
    "pprint(\"==================================== data ====================================\")\n",
    "pprint(data)"
   ]
  },
  {
   "cell_type": "code",
   "execution_count": 4,
   "id": "576b095cc6eceffe",
   "metadata": {
    "ExecuteTime": {
     "end_time": "2024-02-29T05:48:00.615676Z",
     "start_time": "2024-02-29T05:48:00.597511Z"
    },
    "collapsed": false
   },
   "outputs": [],
   "source": [
    "pprint(\"============================== tcm_bc.data2t(data) ===============================\")\n",
    "pprint(tcm_bc.data2times(data))\n",
    "pprint(\"============================= tcm_bc.data2taus(data) =============================\")\n",
    "pprint(tcm_bc.data2taus(data))\n",
    "pprint(\"=========================== tcm_bc.data2timesMid(data) ===========================\")\n",
    "pprint(tcm_bc.data2timesMid(data))\n",
    "pprint(\"================================== tcm_bc.fqfp ===================================\")\n",
    "pprint(tcm_bc.fqfp)\n",
    "pprint(\"========================== tcm_bc.input_function() =========================\")\n",
    "pprint(tcm_bc.input_function())\n",
    "pprint(\"================================= tcm_bc.labels ==================================\")\n",
    "pprint(tcm_bc.labels)\n",
    "pprint(\"====================== tcm_bc.load_nii(tcm_bc.fqfp + '.nii.gz') ======================\")\n",
    "pprint(tcm_bc.load_nii(tcm_bc.fqfp + \".nii.gz\"))\n",
    "pprint(\"=============================== tcm_bc.loglike(v) ================================\")\n",
    "pprint(tcm_bc.loglike(v))\n",
    "pprint(\"================================== tcm_bc.ndim ===================================\")\n",
    "pprint(tcm_bc.ndim)\n",
    "pprint(\"========================= tcm_bc.parse_halflife(tcm_bc.fqfp) =========================\")\n",
    "pprint(tcm_bc.parse_halflife(tcm_bc.fqfp))\n",
    "pprint(\"========================= tcm_bc.parse_isotope(tcm_bc.fqfp) ==========================\")\n",
    "pprint(tcm_bc.parse_isotope(tcm_bc.fqfp))\n",
    "pprint(\"================================== tcm_bc.sigma ==================================\")\n",
    "pprint(tcm_bc.sigma)\n",
    "pprint(\"============================ tcm_bc.signalmodel(data) ============================\")\n",
    "pprint(tcm_bc.signalmodel(data))"
   ]
  },
  {
   "cell_type": "markdown",
   "id": "7d6d4379edb29667",
   "metadata": {
    "collapsed": false
   },
   "source": [
    "## Plot Huang1980ModelAndArtery with Boxcar"
   ]
  },
  {
   "cell_type": "code",
   "execution_count": 5,
   "id": "4d8916d6b6938779",
   "metadata": {
    "ExecuteTime": {
     "end_time": "2024-02-29T05:48:00.802618Z",
     "start_time": "2024-02-29T05:48:00.616291Z"
    },
    "collapsed": false
   },
   "outputs": [],
   "source": [
    "tcm_bc.plot_truths()"
   ]
  },
  {
   "cell_type": "code",
   "execution_count": 6,
   "id": "dbe964fb2c373a25",
   "metadata": {
    "ExecuteTime": {
     "end_time": "2024-02-29T05:48:01.011160Z",
     "start_time": "2024-02-29T05:48:00.803351Z"
    },
    "collapsed": false
   },
   "outputs": [],
   "source": [
    "tcm_bc.plot_variations(18, -10, 10 , tcm_bc.truths)"
   ]
  },
  {
   "cell_type": "markdown",
   "id": "3a95509c7dd19416",
   "metadata": {
    "collapsed": false
   },
   "source": [
    "Let's sample from this distribution using the default `dynesty` settings with `'slice'`."
   ]
  },
  {
   "cell_type": "code",
   "execution_count": 7,
   "id": "39013d92043865d3",
   "metadata": {
    "ExecuteTime": {
     "end_time": "2024-02-29T06:36:23.374540Z",
     "start_time": "2024-02-29T05:48:01.011859Z"
    },
    "collapsed": false
   },
   "outputs": [],
   "source": [
    "# de novo\n",
    "res_bc = tcm_bc.run_nested(print_progress=True)\n",
    "\n",
    "# # restart\n",
    "# sampler = dynesty.DynamicNestedSampler.restore(tcm_bc.fqfp+\"_dynesty-Boxcar-20240122210738.save\")\n",
    "# sampler.run_nested(resume=True, print_progress=True)\n",
    "# res = sampler.results"
   ]
  },
  {
   "cell_type": "markdown",
   "id": "7244635ee28eb02e",
   "metadata": {
    "collapsed": false
   },
   "source": [
    "## Inspect Huang1980ModelAndArtery with RadialArtery"
   ]
  },
  {
   "cell_type": "code",
   "execution_count": null,
   "id": "f9e1a040a706d6",
   "metadata": {
    "ExecuteTime": {
     "end_time": "2024-02-29T06:36:23.375423Z",
     "start_time": "2024-02-29T06:36:23.375374Z"
    },
    "collapsed": false
   },
   "outputs": [],
   "source": [
    "v = tcm_ra.truths\n",
    "pprint(\"===================================== v ======================================\")\n",
    "pprint(v)\n",
    "\n",
    "data = tcm_ra.data(v)\n",
    "pprint(\"==================================== data ====================================\")\n",
    "pprint(data)"
   ]
  },
  {
   "cell_type": "code",
   "execution_count": null,
   "id": "d346bc593053e089",
   "metadata": {
    "collapsed": false
   },
   "outputs": [],
   "source": [
    "pprint(\"============================== tcm_ra.data2t(data) ===============================\")\n",
    "pprint(tcm_ra.data2times(data))\n",
    "pprint(\"============================= tcm_ra.data2taus(data) =============================\")\n",
    "pprint(tcm_ra.data2taus(data))\n",
    "pprint(\"=========================== tcm_ra.data2timesMid(data) ===========================\")\n",
    "pprint(tcm_ra.data2timesMid(data))\n",
    "pprint(\"================================== tcm_ra.fqfp ===================================\")\n",
    "pprint(tcm_ra.fqfp)\n",
    "pprint(\"========================== tcm_ra.input_function() =========================\")\n",
    "pprint(tcm_ra.input_function())\n",
    "pprint(\"================================= tcm_ra.labels ==================================\")\n",
    "pprint(tcm_ra.labels)\n",
    "pprint(\"====================== tcm_ra.load_nii(tcm_ra.fqfp + '.nii.gz') ======================\")\n",
    "pprint(tcm_ra.load_nii(tcm_ra.fqfp + \".nii.gz\"))\n",
    "pprint(\"=============================== tcm_ra.loglike(v) ================================\")\n",
    "pprint(tcm_ra.loglike(v))\n",
    "pprint(\"================================== tcm_ra.ndim ===================================\")\n",
    "pprint(tcm_ra.ndim)\n",
    "pprint(\"========================= tcm_ra.parse_halflife(tcm_ra.fqfp) =========================\")\n",
    "pprint(tcm_ra.parse_halflife(tcm_ra.fqfp))\n",
    "pprint(\"========================= tcm_ra.parse_isotope(tcm_ra.fqfp) ==========================\")\n",
    "pprint(tcm_ra.parse_isotope(tcm_ra.fqfp))\n",
    "pprint(\"================================== tcm_ra.sigma ==================================\")\n",
    "pprint(tcm_ra.sigma)\n",
    "pprint(\"============================ tcm_ra.signalmodel(data) ============================\")\n",
    "pprint(tcm_ra.signalmodel(data))"
   ]
  },
  {
   "cell_type": "markdown",
   "id": "ad045e356e92b2bd",
   "metadata": {
    "collapsed": false
   },
   "source": [
    "## Plot Huang1980ModelAndArtery with RadialArtery"
   ]
  },
  {
   "cell_type": "code",
   "execution_count": null,
   "id": "54d05907d4ba6afe",
   "metadata": {
    "collapsed": false
   },
   "outputs": [],
   "source": [
    "tcm_ra.plot_truths()"
   ]
  },
  {
   "cell_type": "code",
   "execution_count": null,
   "id": "61b77d77af6cf3cc",
   "metadata": {
    "collapsed": false
   },
   "outputs": [],
   "source": [
    "tcm_ra.plot_variations(0, 0.0022, 0.017 , tcm_ra.truths)"
   ]
  },
  {
   "cell_type": "markdown",
   "id": "657300e74cea1c9a",
   "metadata": {
    "collapsed": false
   },
   "source": [
    "Let's sample from this distribution using the default `dynesty` settings with `'slice'`."
   ]
  },
  {
   "cell_type": "code",
   "execution_count": null,
   "id": "ef854254fb17463b",
   "metadata": {
    "collapsed": false
   },
   "outputs": [],
   "source": [
    "# de novo\n",
    "res_ra = tcm_ra.run_nested(print_progress=True)\n",
    "\n",
    "# # restart\n",
    "# sampler = dynesty.DynamicNestedSampler.restore(tcm_ra.fqfp+\"_dynesty-Boxcar-20240122210738.save\")\n",
    "# sampler.run_nested(resume=True, print_progress=True)\n",
    "# res = sampler.results"
   ]
  }
 ],
 "metadata": {
  "kernelspec": {
   "display_name": "Python 3",
   "language": "python",
   "name": "python3"
  },
  "language_info": {
   "codemirror_mode": {
    "name": "ipython",
    "version": 2
   },
   "file_extension": ".py",
   "mimetype": "text/x-python",
   "name": "python",
   "nbconvert_exporter": "python",
   "pygments_lexer": "ipython2",
   "version": "2.7.6"
  }
 },
 "nbformat": 4,
 "nbformat_minor": 5
}
