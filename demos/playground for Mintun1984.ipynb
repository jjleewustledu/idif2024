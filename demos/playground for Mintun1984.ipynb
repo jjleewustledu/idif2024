{
 "cells": [
  {
   "cell_type": "markdown",
   "id": "362fa90fac6d39b0",
   "metadata": {
    "collapsed": false
   },
   "source": [
    "# Mintun1984Model for Image-Derived Input Functions and Twilite Data"
   ]
  },
  {
   "cell_type": "markdown",
   "id": "b9f6fc2c",
   "metadata": {},
   "source": []
  },
  {
   "cell_type": "markdown",
   "id": "16e2061ef24e2ad7",
   "metadata": {
    "collapsed": false
   },
   "source": [
    "## Setup"
   ]
  },
  {
   "cell_type": "code",
   "execution_count": 1,
   "id": "ec604c8e",
   "metadata": {},
   "outputs": [],
   "source": [
    "import os\n",
    "import sys\n",
    "sys.path.append(os.path.abspath(os.path.join(os.getcwd(), os.pardir)))\n"
   ]
  },
  {
   "cell_type": "code",
   "execution_count": 2,
   "id": "ba221cabcbc6f99a",
   "metadata": {
    "ExecuteTime": {
     "end_time": "2025-01-05T04:42:29.583510Z",
     "start_time": "2025-01-05T04:42:29.071526Z"
    },
    "collapsed": false
   },
   "outputs": [],
   "source": [
    "# system functions that are always useful to have\n",
    "import time, sys, os\n",
    "from pprint import pprint\n",
    "\n",
    "# basic numeric setup\n",
    "import numpy as np\n",
    "\n",
    "from Boxcar import Boxcar\n",
    "from RadialArtery import RadialArtery\n",
    "from IOImplementations import BaseIO\n",
    "from IOImplementations import BoxcarIO\n",
    "from IOImplementations import RadialArteryIO\n",
    "from Mintun1984Model import Mintun1984Model\n",
    "%matplotlib inline\n",
    "# from matplotlib import pyplot as plt"
   ]
  },
  {
   "cell_type": "code",
   "execution_count": null,
   "id": "d423b513e51290f3",
   "metadata": {
    "ExecuteTime": {
     "end_time": "2025-01-05T04:42:29.820561Z",
     "start_time": "2025-01-05T04:42:29.587295Z"
    },
    "collapsed": false
   },
   "outputs": [],
   "source": [
    "# define data & models\n",
    "petdir_arch = os.path.join(os.getenv(\"SINGULARITY_HOME\"), \"CCIR_01211\", \"derivatives\", \"sub-108293\", \"ses-20210421150523\", \"pet\")\n",
    "kerndir = os.path.join(os.getenv(\"HOME\"), \"PycharmProjects\", \"dynesty\", \"idif2024\", \"data\", \"kernels\")\n",
    "petdir = os.path.join(os.getenv(\"HOME\"), \"PycharmProjects\", \"dynesty\", \"idif2024\", \"data\", \"ses-20210421150523\", \"pet\")\n",
    "#petdir = os.path.join(os.getenv(\"SINGULARITY_HOME\"), \"CCIR_01211\", \"derivatives\", \"sub-108293\", \"ses-20210421150523\", \"pet\")\n",
    "idif = os.path.join(petdir, \"sub-108293_ses-20210421150523_trc-oo_proc-MipIdif_idif_dynesty-Boxcar-ideal.nii.gz\")\n",
    "#idif = os.path.join(petdir, \"sub-108293_ses-20210421150523_trc-oo_proc-MipIdif_idif.nii.gz\")\n",
    "#twil = os.path.join(petdir, \"sub-108293_ses-20210421150523_trc-oo_proc-TwiliteKit-do-make-input-func-nomodel_inputfunc.nii.gz\")\n",
    "twil = os.path.join(petdir, \"sub-108293_ses-20210421150523_trc-oo_proc-TwiliteKit-do-make-input-func-nomodel_inputfunc_dynesty-RadialArtery-ideal.nii.gz\")\n",
    "kern = os.path.join(kerndir, \"kernel_hct=46.8.nii.gz\")\n",
    "pet = os.path.join(petdir, \"sub-108293_ses-20210421150523_trc-oo_proc-delay0-BrainMoCo2-createNiftiMovingAvgFrames_timeAppend-4-ParcSchaeffer-reshape-to-schaeffer-schaeffer.nii.gz\")\n",
    "\n",
    "# most reasonable fit from:  truths=[0.5, 0.245, 0.775, 5.6, -15, 0.05]\n",
    "mm_twil = Mintun1984Model(\n",
    "    twil, \n",
    "    pet,\n",
    "    parc_index=25,\n",
    "    truths=[0.504947, 0.364200, 0.687735, 6.188487, -17.166152, 8.929869, 0.034889],\n",
    "    nlive=1000,\n",
    "    tag=\"main7-rc1p85-vrc1-3000\"\n",
    ")\n",
    "mm_idif = Mintun1984Model(\n",
    "    idif, \n",
    "    pet,\n",
    "    parc_index=25,\n",
    "    truths=[0.373545, 0.927540, 0.644307, 0.088477, -29.793043, 8.232628, 0.016948],\n",
    "    nlive=1000,\n",
    "    tag=\"main7-rc1p85-vrc1-3000\"\n",
    ")\n",
    "\n",
    "parc_index = 25"
   ]
  },
  {
   "cell_type": "markdown",
   "id": "e343790186b626a",
   "metadata": {
    "collapsed": false
   },
   "source": [
    "## Inspect Mintun1984Model twil"
   ]
  },
  {
   "cell_type": "code",
   "execution_count": null,
   "id": "96f1a7c8",
   "metadata": {},
   "outputs": [],
   "source": [
    "pprint(mm_twil.data(mm_twil.truths))"
   ]
  },
  {
   "cell_type": "code",
   "execution_count": null,
   "id": "4d8916d6b6938779",
   "metadata": {
    "ExecuteTime": {
     "end_time": "2025-01-05T04:44:43.560607Z",
     "start_time": "2025-01-05T04:42:39.880351Z"
    },
    "collapsed": false
   },
   "outputs": [],
   "source": [
    "mm_twil.plot_truths(parc_index=parc_index)"
   ]
  },
  {
   "cell_type": "code",
   "execution_count": null,
   "id": "dbe964fb2c373a25",
   "metadata": {
    "ExecuteTime": {
     "end_time": "2025-01-05T04:48:05.798084Z",
     "start_time": "2025-01-05T04:48:05.639376Z"
    },
    "collapsed": false
   },
   "outputs": [],
   "source": [
    "mm_twil.plot_variations(0, 0.05, 0.95, mm_twil.truths)"
   ]
  },
  {
   "cell_type": "markdown",
   "id": "3a95509c7dd19416",
   "metadata": {
    "collapsed": false
   },
   "source": [
    "Let's sample from this distribution using the default `dynesty` settings with `'slice'`."
   ]
  },
  {
   "cell_type": "code",
   "execution_count": null,
   "id": "39013d92043865d3",
   "metadata": {
    "collapsed": false
   },
   "outputs": [],
   "source": [
    "# de novo, thalamus ~ 6, 25\n",
    "res_twil = mm_twil.run_nested_for_indexed_tac(parc_index, print_progress=True)\n",
    "mm_twil.save_results(res_twil, \"playground-for-M1984M\")\n",
    "\n",
    "# # restart\n",
    "# sampler = dynesty.DynamicNestedSampler.restore(mm_twil.fqfp+\"_dynesty-Boxcar-20240122210738.save\")\n",
    "# sampler.run_nested(resume=True, print_progress=True)\n",
    "# res = sampler.results"
   ]
  },
  {
   "cell_type": "code",
   "execution_count": null,
   "id": "85294605",
   "metadata": {},
   "outputs": [],
   "source": [
    "pprint(mm_twil.data(mm_twil.truths))"
   ]
  },
  {
   "cell_type": "markdown",
   "id": "3e11ecb8131437a4",
   "metadata": {
    "collapsed": false
   },
   "source": [
    "## Inspect Mintun1984Model idif"
   ]
  },
  {
   "cell_type": "code",
   "execution_count": null,
   "id": "fe1fc8ad9a731ba2",
   "metadata": {
    "collapsed": false
   },
   "outputs": [],
   "source": [
    "mm_idif.plot_truths(parc_index=parc_index)"
   ]
  },
  {
   "cell_type": "code",
   "execution_count": null,
   "id": "3009107551f79f4",
   "metadata": {
    "collapsed": false
   },
   "outputs": [],
   "source": [
    "mm_idif.plot_variations(0, 0.05, 0.95 , mm_idif.truths)"
   ]
  },
  {
   "cell_type": "markdown",
   "id": "cd16f0ee7ed9a4cb",
   "metadata": {
    "collapsed": false
   },
   "source": [
    "Let's sample from this distribution using the default `dynesty` settings with `'slice'`."
   ]
  },
  {
   "cell_type": "code",
   "execution_count": null,
   "id": "6c5f0c9ac49142cf",
   "metadata": {
    "collapsed": false
   },
   "outputs": [],
   "source": [
    "# de novo, thalamus ~ 6, 25\n",
    "res_idif = mm_idif.run_nested_for_indexed_tac(parc_index, print_progress=True)\n",
    "mm_idif.save_results(res_idif, \"playground-for-M1984M\")\n",
    "\n",
    "# # restart\n",
    "# sampler = dynesty.DynamicNestedSampler.restore(mm_idif.fqfp+\"_dynesty-Boxcar-20240122210738.save\")\n",
    "# sampler.run_nested(resume=True, print_progress=True)\n",
    "# res = sampler.results"
   ]
  }
 ],
 "metadata": {
  "kernelspec": {
   "display_name": "Python 3",
   "language": "python",
   "name": "python3"
  },
  "language_info": {
   "codemirror_mode": {
    "name": "ipython",
    "version": 3
   },
   "file_extension": ".py",
   "mimetype": "text/x-python",
   "name": "python",
   "nbconvert_exporter": "python",
   "pygments_lexer": "ipython3",
   "version": "3.12.8"
  }
 },
 "nbformat": 4,
 "nbformat_minor": 5
}
