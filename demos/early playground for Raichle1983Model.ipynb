{
 "cells": [
  {
   "cell_type": "markdown",
   "source": [
    "# Raichle1983Model for Image-Derived Input Functions and wmparc-wmparc"
   ],
   "metadata": {
    "collapsed": false
   },
   "id": "362fa90fac6d39b0"
  },
  {
   "cell_type": "markdown",
   "source": [
    "## Setup"
   ],
   "metadata": {
    "collapsed": false
   },
   "id": "16e2061ef24e2ad7"
  },
  {
   "cell_type": "code",
   "source": [
    "# system functions that are always useful to have\n",
    "import time, sys, os\n",
    "\n",
    "# basic numeric setup\n",
    "import numpy as np\n",
    "\n",
    "from Raichle1983Model import Raichle1983Model"
   ],
   "metadata": {
    "collapsed": false,
    "ExecuteTime": {
     "end_time": "2024-02-22T21:10:12.243590Z",
     "start_time": "2024-02-22T21:10:11.666721Z"
    }
   },
   "id": "ba221cabcbc6f99a",
   "execution_count": 1,
   "outputs": []
  },
  {
   "cell_type": "code",
   "source": [
    "singularity = \"/Volumes/PrecunealSSD/Singularity\"\n",
    "niis = [\n",
    "os.path.join(singularity, \n",
    "    \"CCIR_01211\", \"derivatives\", \"sub-108293\", \"ses-20210421144815\", \"pet\", \n",
    "    \"sub-108293_ses-20210421144815_trc-co_proc-MipIdif_idif.nii.gz\"),\n",
    "os.path.join(singularity, \n",
    "    \"CCIR_01211\", \"derivatives\", \"sub-108293\", \"ses-20210421150523\", \"pet\", \n",
    "    \"sub-108293_ses-20210421150523_trc-oo_proc-MipIdif_idif.nii.gz\"),\n",
    "os.path.join(singularity, \n",
    "    \"CCIR_01211\", \"derivatives\", \"sub-108293\", \"ses-20210421152358\", \"pet\", \n",
    "    \"sub-108293_ses-20210421152358_trc-ho_proc-MipIdif_idif.nii.gz\"),\n",
    "os.path.join(singularity, \n",
    "    \"CCIR_01211\", \"derivatives\", \"sub-108293\", \"ses-20210421154248\", \"pet\", \n",
    "    \"sub-108293_ses-20210421154248_trc-oo_proc-MipIdif_idif.nii.gz\"),\n",
    "os.path.join(singularity, \n",
    "   \"CCIR_01211\", \"derivatives\", \"sub-108293\", \"ses-20210421155709\", \"pet\", \n",
    "   \"sub-108293_ses-20210421155709_trc-fdg_proc-MipIdif_idif.nii.gz\"),\n",
    "os.path.join(singularity, \n",
    "    \"CCIR_01211\", \"derivatives\", \"sub-108237\", \"ses-20221031100910\", \"pet\", \n",
    "    \"sub-108237_ses-20221031100910_trc-co_proc-MipIdif_idif.nii.gz\"),\n",
    "os.path.join(singularity, \n",
    "    \"CCIR_01211\", \"derivatives\", \"sub-108237\", \"ses-20221031102320\", \"pet\", \n",
    "    \"sub-108237_ses-20221031102320_trc-oo_proc-MipIdif_idif.nii.gz\"),\n",
    "os.path.join(singularity, \n",
    "    \"CCIR_01211\", \"derivatives\", \"sub-108237\", \"ses-20221031103712\", \"pet\", \n",
    "    \"sub-108237_ses-20221031103712_trc-oo_proc-MipIdif_idif.nii.gz\"),\n",
    "os.path.join(singularity, \n",
    "    \"CCIR_01211\", \"derivatives\", \"sub-108237\", \"ses-20221031110638\", \"pet\", \n",
    "    \"sub-108237_ses-20221031110638_trc-ho_proc-MipIdif_idif.nii.gz\"),\n",
    "os.path.join(singularity, \n",
    "    \"CCIR_01211\", \"derivatives\", \"sub-108237\", \"ses-20221031113804\", \"pet\", \n",
    "    \"sub-108237_ses-20221031113804_trc-fdg_proc-MipIdif_idif.nii.gz\"), \n",
    "os.path.join(singularity, \n",
    "    \"CCIR_01211\", \"derivatives\", \"sub-108254\", \"ses-20221116095143\", \"pet\", \n",
    "    \"sub-108254_ses-20221116095143_trc-co_proc-MipIdif_idif.nii.gz\"),\n",
    "os.path.join(singularity, \n",
    "    \"CCIR_01211\", \"derivatives\", \"sub-108254\", \"ses-20221116100858\", \"pet\", \n",
    "    \"sub-108254_ses-20221116100858_trc-oo_proc-MipIdif_idif.nii.gz\"),\n",
    "os.path.join(singularity, \n",
    "    \"CCIR_01211\", \"derivatives\", \"sub-108254\", \"ses-20221116102328\", \"pet\", \n",
    "    \"sub-108254_ses-20221116102328_trc-oo_proc-MipIdif_idif.nii.gz\"),\n",
    "os.path.join(singularity, \n",
    "    \"CCIR_01211\", \"derivatives\", \"sub-108254\", \"ses-20221116104751\", \"pet\", \n",
    "    \"sub-108254_ses-20221116104751_trc-ho_proc-MipIdif_idif.nii.gz\"),\n",
    "os.path.join(singularity, \n",
    "    \"CCIR_01211\", \"derivatives\", \"sub-108254\", \"ses-20221116115244\", \"pet\", \n",
    "    \"sub-108254_ses-20221116115244_trc-fdg_proc-MipIdif_idif.nii.gz\"),\n",
    "os.path.join(singularity, \n",
    "    \"CCIR_01211\", \"derivatives\", \"sub-108250\", \"ses-20221207093856\", \"pet\", \n",
    "    \"sub-108250_ses-20221207093856_trc-co_proc-MipIdif_idif.nii.gz\"),\n",
    "os.path.join(singularity, \n",
    "    \"CCIR_01211\", \"derivatives\", \"sub-108250\", \"ses-20221207095507\", \"pet\", \n",
    "    \"sub-108250_ses-20221207095507_trc-oo_proc-MipIdif_idif.nii.gz\"),\n",
    "os.path.join(singularity, \n",
    "    \"CCIR_01211\", \"derivatives\", \"sub-108250\", \"ses-20221207100946\", \"pet\", \n",
    "    \"sub-108250_ses-20221207100946_trc-oo_proc-MipIdif_idif.nii.gz\"),\n",
    "os.path.join(singularity, \n",
    "    \"CCIR_01211\", \"derivatives\", \"sub-108250\", \"ses-20221207102944\", \"pet\", \n",
    "    \"sub-108250_ses-20221207102944_trc-ho_proc-MipIdif_idif.nii.gz\"),\n",
    "os.path.join(singularity, \n",
    "    \"CCIR_01211\", \"derivatives\", \"sub-108250\", \"ses-20221207104909\", \"pet\", \n",
    "    \"sub-108250_ses-20221207104909_trc-fdg_proc-MipIdif_idif.nii.gz\"), \n",
    "os.path.join(singularity, \n",
    "    \"CCIR_01211\", \"derivatives\", \"sub-108284\", \"ses-20230220093702\", \"pet\", \n",
    "    \"sub-108284_ses-20230220093702_trc-co_proc-MipIdif_idif.nii.gz\"),\n",
    "os.path.join(singularity, \n",
    "    \"CCIR_01211\", \"derivatives\", \"sub-108284\", \"ses-20230220095210\", \"pet\", \n",
    "    \"sub-108284_ses-20230220095210_trc-oo_proc-MipIdif_idif.nii.gz\"),\n",
    "os.path.join(singularity, \n",
    "    \"CCIR_01211\", \"derivatives\", \"sub-108284\", \"ses-20230220101103\", \"pet\", \n",
    "    \"sub-108284_ses-20230220101103_trc-oo_proc-MipIdif_idif.nii.gz\"),\n",
    "os.path.join(singularity, \n",
    "    \"CCIR_01211\", \"derivatives\", \"sub-108284\", \"ses-20230220103226\", \"pet\", \n",
    "    \"sub-108284_ses-20230220103226_trc-ho_proc-MipIdif_idif.nii.gz\"),\n",
    "os.path.join(singularity, \n",
    "    \"CCIR_01211\", \"derivatives\", \"sub-108284\", \"ses-20230220112328\", \"pet\", \n",
    "    \"sub-108284_ses-20230220112328_trc-ho_proc-MipIdif_idif.nii.gz\"),\n",
    "os.path.join(singularity, \n",
    "    \"CCIR_01211\", \"derivatives\", \"sub-108306\", \"ses-20230227103048\", \"pet\", \n",
    "    \"sub-108306_ses-20230227103048_trc-co_proc-MipIdif_idif.nii.gz\"),\n",
    "os.path.join(singularity, \n",
    "    \"CCIR_01211\", \"derivatives\", \"sub-108306\", \"ses-20230227104631\", \"pet\", \n",
    "    \"sub-108306_ses-20230227104631_trc-oo_proc-MipIdif_idif.nii.gz\"),\n",
    "os.path.join(singularity, \n",
    "    \"CCIR_01211\", \"derivatives\", \"sub-108306\", \"ses-20230227112148\", \"pet\", \n",
    "    \"sub-108306_ses-20230227112148_trc-oo_proc-MipIdif_idif.nii.gz\"),\n",
    "os.path.join(singularity, \n",
    "    \"CCIR_01211\", \"derivatives\", \"sub-108306\", \"ses-20230227113853\", \"pet\", \n",
    "    \"sub-108306_ses-20230227113853_trc-ho_proc-MipIdif_idif.nii.gz\"),\n",
    "os.path.join(singularity, \n",
    "    \"CCIR_01211\", \"derivatives\", \"sub-108306\", \"ses-20230227115809\", \"pet\", \n",
    "    \"sub-108306_ses-20230227115809_trc-fdg_proc-MipIdif_idif.nii.gz\")]"
   ],
   "metadata": {
    "collapsed": false,
    "ExecuteTime": {
     "end_time": "2024-02-22T21:10:12.253511Z",
     "start_time": "2024-02-22T21:10:12.248976Z"
    }
   },
   "id": "c39f5fdfd7329dae",
   "execution_count": 2,
   "outputs": []
  },
  {
   "cell_type": "code",
   "source": [
    "# define model\n",
    "input_function = os.path.join(singularity, \n",
    "    \"CCIR_01211\", \"derivatives\", \"sub-108293\", \"ses-20210421152358\", \"pet\", \n",
    "    \"sub-108293_ses-20210421152358_trc-ho_proc-MipIdif_idif.nii.gz\"),\n",
    "pet_measurement = os.path.join(singularity, \n",
    "    \"CCIR_01211\", \"derivatives\", \"sub-108293\", \"ses-20210421152358\", \"pet\", \n",
    "    \"sub-108293_ses-20210421152358_trc-ho_proc-BrainMoCo2-createNiftiMovingAvgFrames-ParcWmparc-reshape-to-wmparc-wmparc.nii.gz\"),\n",
    "rm = Raichle1983Model(input_function[0], pet_measurement[0], nlive=1000) # 1000"
   ],
   "metadata": {
    "collapsed": false,
    "ExecuteTime": {
     "end_time": "2024-02-22T21:10:12.257781Z",
     "start_time": "2024-02-22T21:10:12.251290Z"
    }
   },
   "id": "d423b513e51290f3",
   "execution_count": 3,
   "outputs": []
  },
  {
   "cell_type": "code",
   "source": [
    "rm.plot_truths()"
   ],
   "metadata": {
    "collapsed": false,
    "ExecuteTime": {
     "end_time": "2024-02-22T21:10:12.371689Z",
     "start_time": "2024-02-22T21:10:12.256016Z"
    }
   },
   "id": "4d8916d6b6938779",
   "execution_count": 4,
   "outputs": []
  },
  {
   "cell_type": "code",
   "source": [
    "rm.plot_variations(tindex=0, tmin=0.0001, tmax=0.02)"
   ],
   "metadata": {
    "collapsed": false,
    "ExecuteTime": {
     "end_time": "2024-02-22T21:11:17.401317Z",
     "start_time": "2024-02-22T21:11:17.238881Z"
    }
   },
   "id": "dbe964fb2c373a25",
   "execution_count": 6,
   "outputs": []
  },
  {
   "cell_type": "markdown",
   "source": [
    "Let's sample from this distribution using the default `dynesty` settings with `'slice'`."
   ],
   "metadata": {
    "collapsed": false
   },
   "id": "3a95509c7dd19416"
  },
  {
   "cell_type": "code",
   "source": [
    "# de novo\n",
    "res_dict = rm.run_nested()\n",
    "rm.save_results(res_dict)\n",
    "\n",
    "# restart\n",
    "# sampler = dynesty.DynamicNestedSampler.restore(rm.fqfp+\"_dynesty-Boxcar-20240122210738.save\")\n",
    "# sampler.run_nested(resume=True)\n",
    "# res = sampler.results"
   ],
   "metadata": {
    "collapsed": false,
    "ExecuteTime": {
     "end_time": "2024-02-22T22:44:16.046044Z",
     "start_time": "2024-02-22T21:11:54.690365Z"
    }
   },
   "id": "39013d92043865d3",
   "execution_count": 7,
   "outputs": []
  },
  {
   "cell_type": "code",
   "source": [
    "rm.plot_results(res_dict)"
   ],
   "metadata": {
    "collapsed": false,
    "ExecuteTime": {
     "end_time": "2024-02-22T22:44:16.287341Z",
     "start_time": "2024-02-22T22:44:16.046457Z"
    }
   },
   "id": "f590ef0dfdbcdbf9",
   "execution_count": 8,
   "outputs": []
  },
  {
   "cell_type": "markdown",
   "source": [
    "# Misc. Testing"
   ],
   "metadata": {
    "collapsed": false
   },
   "id": "7f8a7459c6710689"
  },
  {
   "cell_type": "code",
   "source": [
    "from pympler import asizeof\n",
    "res = res_dict[\"res\"]\n",
    "asizeof.asizeof(res)"
   ],
   "metadata": {
    "collapsed": false,
    "ExecuteTime": {
     "end_time": "2024-02-22T22:44:16.288829Z",
     "start_time": "2024-02-22T22:44:16.288365Z"
    }
   },
   "id": "9e923710ea7536ab",
   "execution_count": null,
   "outputs": []
  },
  {
   "cell_type": "code",
   "source": [
    "res.asdict()"
   ],
   "metadata": {
    "collapsed": false,
    "ExecuteTime": {
     "start_time": "2024-02-22T22:44:16.289666Z"
    }
   },
   "id": "cd0315d25d36ac35",
   "execution_count": null,
   "outputs": []
  },
  {
   "cell_type": "code",
   "source": [
    "rd = res.asdict()\n",
    "rd"
   ],
   "metadata": {
    "collapsed": false,
    "ExecuteTime": {
     "start_time": "2024-02-22T22:44:16.290909Z"
    }
   },
   "id": "3d35ca3b3166ef36",
   "execution_count": null,
   "outputs": []
  },
  {
   "cell_type": "code",
   "source": [
    "rd[\"logz\"][-1]"
   ],
   "metadata": {
    "collapsed": false,
    "ExecuteTime": {
     "start_time": "2024-02-22T22:44:16.292125Z"
    }
   },
   "id": "326d2f9022dd34f0",
   "execution_count": null,
   "outputs": []
  },
  {
   "cell_type": "code",
   "source": [
    "rd[\"information\"][-1]"
   ],
   "metadata": {
    "collapsed": false,
    "ExecuteTime": {
     "start_time": "2024-02-22T22:44:16.293192Z"
    }
   },
   "id": "3c8ecaac75b5fa4d",
   "execution_count": null,
   "outputs": []
  },
  {
   "cell_type": "code",
   "source": [
    "res.summary()"
   ],
   "metadata": {
    "collapsed": false,
    "ExecuteTime": {
     "start_time": "2024-02-22T22:44:16.293887Z"
    }
   },
   "id": "a6c0aac503a2db8a",
   "execution_count": null,
   "outputs": []
  },
  {
   "cell_type": "code",
   "source": [
    "import nibabel as nib\n",
    "import matplotlib.pyplot as plt\n",
    "\n",
    "fqfn = os.path.join(singularity, \n",
    "    \"CCIR_01211\", \"derivatives\", \"sub-108293\", \"ses-20210421152358\", \"pet\", \n",
    "    \"sub-108293_ses-20210421152358_trc-ho_proc-BrainMoCo2-createNiftiMovingAvgFrames-ParcWmparc-reshape-to-wmparc-wmparc.nii.gz\")\n",
    "nii = nib.load(fqfn)\n",
    "img = nii.get_fdata()\n",
    "plt.imshow(img, cmap=\"gray\", origin=\"lower\")\n",
    "\n",
    "plt.figure(figsize=(12, 8))\n",
    "plt.plot(img[0,], linewidth=2)"
   ],
   "metadata": {
    "collapsed": false,
    "ExecuteTime": {
     "start_time": "2024-02-22T22:44:16.294731Z"
    }
   },
   "id": "adc9648a0136213c",
   "execution_count": null,
   "outputs": []
  },
  {
   "cell_type": "code",
   "source": [],
   "metadata": {
    "collapsed": false,
    "ExecuteTime": {
     "start_time": "2024-02-22T22:44:16.295564Z"
    }
   },
   "id": "31e861a55f4698a3",
   "execution_count": null,
   "outputs": []
  }
 ],
 "metadata": {
  "kernelspec": {
   "display_name": "Python 3",
   "language": "python",
   "name": "python3"
  },
  "language_info": {
   "codemirror_mode": {
    "name": "ipython",
    "version": 2
   },
   "file_extension": ".py",
   "mimetype": "text/x-python",
   "name": "python",
   "nbconvert_exporter": "python",
   "pygments_lexer": "ipython2",
   "version": "2.7.6"
  }
 },
 "nbformat": 4,
 "nbformat_minor": 5
}
