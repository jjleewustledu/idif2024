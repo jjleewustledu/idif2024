{
 "cells": [
  {
   "cell_type": "code",
   "execution_count": 3,
   "metadata": {},
   "outputs": [],
   "source": [
    "import sys\n",
    "import os\n",
    "sys.path.append(os.path.abspath(os.path.join(os.getcwd(), os.pardir)))\n",
    "from pprint import pprint"
   ]
  },
  {
   "cell_type": "code",
   "execution_count": 1,
   "metadata": {},
   "outputs": [
    {
     "name": "stdout",
     "output_type": "stream",
     "text": [
      "np.interp time: 3.814697265625e-05\n",
      "interp1d time: 0.0014297962188720703\n"
     ]
    }
   ],
   "source": [
    "import numpy as np\n",
    "from scipy.interpolate import interp1d\n",
    "import time\n",
    "\n",
    "# Test data\n",
    "x = np.linspace(0, 10, 1000)\n",
    "y = np.sin(x)\n",
    "xnew = np.linspace(0, 10, 500)\n",
    "\n",
    "# numpy.interp\n",
    "start = time.time()\n",
    "ynew1 = np.interp(xnew, x, y)\n",
    "print(f\"np.interp time: {time.time() - start}\")\n",
    "\n",
    "# scipy.interpolate.interp1d\n",
    "start = time.time()\n",
    "f = interp1d(x, y)\n",
    "ynew2 = f(xnew)\n",
    "print(f\"interp1d time: {time.time() - start}\")"
   ]
  },
  {
   "cell_type": "code",
   "execution_count": 7,
   "metadata": {},
   "outputs": [
    {
     "name": "stdout",
     "output_type": "stream",
     "text": [
      "{'end': 30,\n",
      " 'group 1': 'cglc',\n",
      " 'match': 'trc-cglc',\n",
      " 'span': (22, 30),\n",
      " 'start': 22}\n"
     ]
    }
   ],
   "source": [
    "import re\n",
    "match = re.search(r'trc-([^_]+)', \"/path/to/some/sub_ses_trc-cglc_pet.nii.gz\")\n",
    "if match:\n",
    "    pprint({\n",
    "        'match': match.group(0),  # Full match\n",
    "        'group 1': match.group(1),  # Captured group\n",
    "        'start': match.start(),\n",
    "        'end': match.end(),\n",
    "        'span': match.span()\n",
    "    })\n",
    "else:\n",
    "    print(\"No match found\")"
   ]
  },
  {
   "cell_type": "code",
   "execution_count": 5,
   "metadata": {},
   "outputs": [
    {
     "name": "stdout",
     "output_type": "stream",
     "text": [
      "sub-108306_ses-20230227103048_trc-co_proc-delay0-BrainMoCo2-createNiftiMovingAvgFrames-ParcSchaeffer-reshape-to-schaeffer-schaeffer-idif_martinv1\n",
      "True\n"
     ]
    }
   ],
   "source": [
    "from IOImplementations import TissueIO\n",
    "\n",
    "_, bname = TissueIO.fileparts(\"/home/jjlee/Singularity/CCIR_01211/derivatives/sub-108306/ses-20230227103048/pet/sub-108306_ses-20230227103048_trc-co_proc-delay0-BrainMoCo2-createNiftiMovingAvgFrames-ParcSchaeffer-reshape-to-schaeffer-schaeffer-idif_marti\\\n",
    "nv1.nii.gz\")\n",
    "print(bname)\n",
    "print(\"idif\" in bname)"
   ]
  }
 ],
 "metadata": {
  "kernelspec": {
   "display_name": "dynesty12",
   "language": "python",
   "name": "python3"
  },
  "language_info": {
   "codemirror_mode": {
    "name": "ipython",
    "version": 3
   },
   "file_extension": ".py",
   "mimetype": "text/x-python",
   "name": "python",
   "nbconvert_exporter": "python",
   "pygments_lexer": "ipython3",
   "version": "3.12.8"
  }
 },
 "nbformat": 4,
 "nbformat_minor": 2
}
