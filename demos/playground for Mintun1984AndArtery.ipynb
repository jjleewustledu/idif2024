{
 "cells": [
  {
   "cell_type": "markdown",
   "id": "362fa90fac6d39b0",
   "metadata": {
    "collapsed": false
   },
   "source": [
    "# Mintun1984AndArtery for Image-Derived Input Functions and Twilite Data\n",
    "## Setup"
   ]
  },
  {
   "cell_type": "code",
   "execution_count": null,
   "id": "ba221cabcbc6f99a",
   "metadata": {
    "collapsed": false
   },
   "outputs": [],
   "source": [
    "# system functions that are always useful to have\n",
    "import time, sys, os\n",
    "from pprint import pprint\n",
    "\n",
    "# basic numeric setup\n",
    "import numpy as np\n",
    "\n",
    "from Boxcar import Boxcar\n",
    "from RadialArtery import RadialArtery\n",
    "from Mintun1984ModelAndArtery import Mintun1984ModelAndArtery"
   ]
  },
  {
   "cell_type": "code",
   "execution_count": null,
   "id": "d423b513e51290f3",
   "metadata": {
    "collapsed": false
   },
   "outputs": [],
   "source": [
    "# define data & models\n",
    "petdir = os.path.join(os.getenv(\"SINGULARITY_HOME\"), \"CCIR_01211\", \"derivatives\", \"sub-108\", \"ses-20210421150523\", \"pet\")\n",
    "idif = os.path.join(petdir, \"sub-108293_ses-20210421150523_trc-oo_proc-MipIdif_idif.nii.gz\")\n",
    "twil = os.path.join(petdir, \"sub-108293_ses-20210421150523_trc-oo_proc-TwiliteKit-do-make-input-func-nomodel_inputfunc.nii.gz\")\n",
    "kern = os.path.join(petdir, \"kernel_hct=46.8.nii.gz\")\n",
    "pet = os.path.join(petdir, \"sub-108293_ses-20210421150523_trc-oo_proc-delay0-BrainMoCo2-createNiftiMovingAvgFrames-ParcSchaeffer-reshape-to-schaeffer-2parcs.nii.gz\")  # 1st two Schaeffer parcels\n",
    "tcm_bc = Mintun1984ModelAndArtery(\n",
    "    idif, \n",
    "    pet,\n",
    "    truths=[\n",
    "       13.8, 12.3, 53.9,\n",
    "       0.668, 7.66, 1.96, -1.38, -0.023, 60.0,\n",
    "       0.074, 0.027, 0.014, \n",
    "       2.427,\n",
    "       0.008,\n",
    "       0.511, 0.245, 0.775, 5, -5, 0.029],\n",
    "    nlive=100)\n",
    "tcm_ra = Mintun1984ModelAndArtery(\n",
    "    twil, \n",
    "    pet,\n",
    "    truths=[\n",
    "       11.484636938903700, 9.038382807893550, 28.568246786745600,\n",
    "       4.5866245255678400, 11.95532505177820, 2.566526335309770, -4.459469081789230, -6.0112371284438400, 25.2540519845093, \n",
    "       0.020278321953784300, 0.008119846365675890, 0.07320044514638420,\n",
    "       2.442656141915740, \n",
    "       0.02215511898025070,\n",
    "       0.511, 0.245, 0.775, 5, -5, 0.029],\n",
    "    nlive=100)"
   ]
  },
  {
   "cell_type": "markdown",
   "id": "e343790186b626a",
   "metadata": {
    "collapsed": false
   },
   "source": [
    "## Inspect Mintun1984ModelAndArtery with Boxcar"
   ]
  },
  {
   "cell_type": "code",
   "execution_count": null,
   "id": "bb04b5521ac8a607",
   "metadata": {
    "collapsed": false
   },
   "outputs": [],
   "source": [
    "v = tcm_bc.truths\n",
    "pprint(\"===================================== v ======================================\")\n",
    "pprint(v)\n",
    "\n",
    "data = tcm_bc.data(v)\n",
    "pprint(\"==================================== data ====================================\")\n",
    "pprint(data)"
   ]
  },
  {
   "cell_type": "code",
   "execution_count": null,
   "id": "576b095cc6eceffe",
   "metadata": {
    "collapsed": false
   },
   "outputs": [],
   "source": [
    "pprint(\"============================== tcm_bc.data2times(data) ===============================\")\n",
    "pprint(tcm_bc.data2times(data))\n",
    "pprint(\"============================= tcm_bc.data2taus(data) =============================\")\n",
    "pprint(tcm_bc.data2taus(data))\n",
    "pprint(\"=========================== tcm_bc.data2timesMid(data) ===========================\")\n",
    "pprint(tcm_bc.data2timesMid(data))\n",
    "pprint(\"================================== tcm_bc.fqfp ===================================\")\n",
    "pprint(tcm_bc.fqfp)\n",
    "pprint(\"========================== tcm_bc.input_function() =========================\")\n",
    "pprint(tcm_bc.input_function())\n",
    "pprint(\"================================= tcm_bc.labels ==================================\")\n",
    "pprint(tcm_bc.labels)\n",
    "pprint(\"====================== tcm_bc.load_nii(tcm_bc.fqfp + '.nii.gz') ======================\")\n",
    "pprint(tcm_bc.load_nii(tcm_bc.fqfp + \".nii.gz\"))\n",
    "pprint(\"=============================== tcm_bc.loglike(v) ================================\")\n",
    "pprint(tcm_bc.loglike(v))\n",
    "pprint(\"================================== tcm_bc.ndim ===================================\")\n",
    "pprint(tcm_bc.ndim)\n",
    "pprint(\"========================= tcm_bc.parse_halflife(tcm_bc.fqfp) =========================\")\n",
    "pprint(tcm_bc.parse_halflife(tcm_bc.fqfp))\n",
    "pprint(\"========================= tcm_bc.parse_isotope(tcm_bc.fqfp) ==========================\")\n",
    "pprint(tcm_bc.parse_isotope(tcm_bc.fqfp))\n",
    "pprint(\"================================== tcm_bc.sigma ==================================\")\n",
    "pprint(tcm_bc.sigma)\n",
    "pprint(\"============================ tcm_bc.signalmodel(data) ============================\")\n",
    "pprint(tcm_bc.signalmodel(data))"
   ]
  },
  {
   "cell_type": "markdown",
   "id": "7d6d4379edb29667",
   "metadata": {
    "collapsed": false
   },
   "source": [
    "## Plot Mintun1984Model with Boxcar"
   ]
  },
  {
   "cell_type": "code",
   "execution_count": null,
   "id": "4d8916d6b6938779",
   "metadata": {
    "collapsed": false
   },
   "outputs": [],
   "source": [
    "tcm_bc.plot_truths()"
   ]
  },
  {
   "cell_type": "code",
   "execution_count": null,
   "id": "dbe964fb2c373a25",
   "metadata": {
    "collapsed": false
   },
   "outputs": [],
   "source": [
    "tcm_bc.plot_variations(18, -10, 10 , tcm_bc.truths)"
   ]
  },
  {
   "cell_type": "markdown",
   "id": "3a95509c7dd19416",
   "metadata": {
    "collapsed": false
   },
   "source": [
    "Let's sample from this distribution using the default `dynesty` settings with `'slice'`."
   ]
  },
  {
   "cell_type": "code",
   "execution_count": null,
   "id": "39013d92043865d3",
   "metadata": {
    "collapsed": false
   },
   "outputs": [],
   "source": [
    "# de novo\n",
    "res_bc = tcm_bc.run_nested(print_progress=True)\n",
    "\n",
    "# # restart\n",
    "# sampler = dynesty.DynamicNestedSampler.restore(tcm_bc.fqfp+\"_dynesty-Boxcar-20240122210738.save\")\n",
    "# sampler.run_nested(resume=True, print_progress=True)\n",
    "# res = sampler.results"
   ]
  },
  {
   "cell_type": "markdown",
   "id": "7244635ee28eb02e",
   "metadata": {
    "collapsed": false
   },
   "source": [
    "## Inspect Mintun1984ModelAndArtery with RadialArtery"
   ]
  },
  {
   "cell_type": "code",
   "execution_count": null,
   "id": "f9e1a040a706d6",
   "metadata": {
    "collapsed": false
   },
   "outputs": [],
   "source": [
    "v = tcm_ra.truths\n",
    "pprint(\"===================================== v ======================================\")\n",
    "pprint(v)\n",
    "\n",
    "data = tcm_ra.data(v)\n",
    "pprint(\"==================================== data ====================================\")\n",
    "pprint(data)"
   ]
  },
  {
   "cell_type": "code",
   "execution_count": null,
   "id": "d346bc593053e089",
   "metadata": {
    "collapsed": false
   },
   "outputs": [],
   "source": [
    "pprint(\"============================== tcm_ra.data2times(data) ===============================\")\n",
    "pprint(tcm_ra.data2times(data))\n",
    "pprint(\"============================= tcm_ra.data2taus(data) =============================\")\n",
    "pprint(tcm_ra.data2taus(data))\n",
    "pprint(\"=========================== tcm_ra.data2timesMid(data) ===========================\")\n",
    "pprint(tcm_ra.data2timesMid(data))\n",
    "pprint(\"================================== tcm_ra.fqfp ===================================\")\n",
    "pprint(tcm_ra.fqfp)\n",
    "pprint(\"========================== tcm_ra.input_function() =========================\")\n",
    "pprint(tcm_ra.input_function())\n",
    "pprint(\"================================= tcm_ra.labels ==================================\")\n",
    "pprint(tcm_ra.labels)\n",
    "pprint(\"====================== tcm_ra.load_nii(tcm_ra.fqfp + '.nii.gz') ======================\")\n",
    "pprint(tcm_ra.load_nii(tcm_ra.fqfp + \".nii.gz\"))\n",
    "pprint(\"=============================== tcm_ra.loglike(v) ================================\")\n",
    "pprint(tcm_ra.loglike(v))\n",
    "pprint(\"================================== tcm_ra.ndim ===================================\")\n",
    "pprint(tcm_ra.ndim)\n",
    "pprint(\"========================= tcm_ra.parse_halflife(tcm_ra.fqfp) =========================\")\n",
    "pprint(tcm_ra.parse_halflife(tcm_ra.fqfp))\n",
    "pprint(\"========================= tcm_ra.parse_isotope(tcm_ra.fqfp) ==========================\")\n",
    "pprint(tcm_ra.parse_isotope(tcm_ra.fqfp))\n",
    "pprint(\"================================== tcm_ra.sigma ==================================\")\n",
    "pprint(tcm_ra.sigma)\n",
    "pprint(\"============================ tcm_ra.signalmodel(data) ============================\")\n",
    "pprint(tcm_ra.signalmodel(data))"
   ]
  },
  {
   "cell_type": "markdown",
   "id": "ad045e356e92b2bd",
   "metadata": {
    "collapsed": false
   },
   "source": [
    "## Plot Mintun1984Model with RadialArtery"
   ]
  },
  {
   "cell_type": "code",
   "execution_count": null,
   "id": "54d05907d4ba6afe",
   "metadata": {
    "collapsed": false
   },
   "outputs": [],
   "source": [
    "tcm_ra.plot_truths()"
   ]
  },
  {
   "cell_type": "code",
   "execution_count": null,
   "id": "61b77d77af6cf3cc",
   "metadata": {
    "collapsed": false
   },
   "outputs": [],
   "source": [
    "tcm_ra.plot_variations(18, -30, -10 , tcm_ra.truths)"
   ]
  },
  {
   "cell_type": "markdown",
   "id": "657300e74cea1c9a",
   "metadata": {
    "collapsed": false
   },
   "source": [
    "Let's sample from this distribution using the default `dynesty` settings with `'slice'`."
   ]
  },
  {
   "cell_type": "code",
   "execution_count": null,
   "id": "ef854254fb17463b",
   "metadata": {
    "collapsed": false
   },
   "outputs": [],
   "source": [
    "# de novo\n",
    "res_ra = tcm_ra.run_nested(print_progress=True)\n",
    "\n",
    "# # restart\n",
    "# sampler = dynesty.DynamicNestedSampler.restore(tcm_ra.fqfp+\"_dynesty-Boxcar-20240122210738.save\")\n",
    "# sampler.run_nested(resume=True, print_progress=True)\n",
    "# res = sampler.results"
   ]
  },
  {
   "cell_type": "code",
   "execution_count": null,
   "id": "c17ac07149e11b1b",
   "metadata": {
    "collapsed": false
   },
   "outputs": [],
   "source": []
  }
 ],
 "metadata": {
  "kernelspec": {
   "display_name": "Python 3",
   "language": "python",
   "name": "python3"
  },
  "language_info": {
   "codemirror_mode": {
    "name": "ipython",
    "version": 2
   },
   "file_extension": ".py",
   "mimetype": "text/x-python",
   "name": "python",
   "nbconvert_exporter": "python",
   "pygments_lexer": "ipython2",
   "version": "2.7.6"
  }
 },
 "nbformat": 4,
 "nbformat_minor": 5
}
