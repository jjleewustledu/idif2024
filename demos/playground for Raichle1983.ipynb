{
 "cells": [
  {
   "cell_type": "markdown",
   "id": "362fa90fac6d39b0",
   "metadata": {
    "collapsed": false
   },
   "source": [
    "# Raichle1983 for Twilite and Image-Derived Input Functions"
   ]
  },
  {
   "cell_type": "markdown",
   "id": "b9f6fc2c",
   "metadata": {},
   "source": []
  },
  {
   "cell_type": "markdown",
   "id": "16e2061ef24e2ad7",
   "metadata": {
    "collapsed": false
   },
   "source": [
    "## Setup"
   ]
  },
  {
   "cell_type": "code",
   "execution_count": 1,
   "id": "ec604c8e",
   "metadata": {},
   "outputs": [],
   "source": [
    "import os\n",
    "import sys\n",
    "import numpy as np\n",
    "sys.path.append(os.path.abspath(os.path.join(os.getcwd(), os.pardir)))\n"
   ]
  },
  {
   "cell_type": "code",
   "execution_count": 2,
   "id": "ba221cabcbc6f99a",
   "metadata": {
    "ExecuteTime": {
     "end_time": "2025-01-05T04:42:29.583510Z",
     "start_time": "2025-01-05T04:42:29.071526Z"
    },
    "collapsed": false
   },
   "outputs": [],
   "source": [
    "# system functions that are always useful to have\n",
    "import time, sys, os\n",
    "from pprint import pprint\n",
    "\n",
    "from Raichle1983Context import Raichle1983Context\n",
    "%matplotlib inline\n",
    "# from matplotlib import pyplot as plt"
   ]
  },
  {
   "cell_type": "code",
   "execution_count": 3,
   "id": "cace5a42",
   "metadata": {},
   "outputs": [],
   "source": [
    "# everything is decay corrected\n",
    "kerndir = os.path.join(os.getenv(\"HOME\"), \"PycharmProjects\", \"dynesty\", \"idif2024\", \"data\", \"kernels\")\n",
    "kern = os.path.join(kerndir, \"kernel_hct=46.8.nii.gz\")\n",
    "\n",
    "hodir = os.path.join(os.getenv(\"HOME\"), \"PycharmProjects\", \"dynesty\", \"idif2024\", \"data\", \"ses-20210421152358\", \"pet\")\n",
    "idif = os.path.join(hodir, \"sub-108293_ses-20210421152358_trc-ho_proc-MipIdif_idif_dynesty-Boxcar-ideal.nii.gz\")\n",
    "twil = os.path.join(hodir, \"sub-108293_ses-20210421152358_trc-ho_proc-TwiliteKit-do-make-input-func-nomodel_inputfunc_dynesty-RadialArtery-ideal.nii.gz\")\n",
    "pet = os.path.join(hodir, \"sub-108293_ses-20210421152358_trc-ho_proc-delay0-BrainMoCo2-createNiftiMovingAvgFrames-ParcSchaeffer-reshape-to-schaeffer-schaeffer.nii.gz\")\n",
    "\n",
    "data_dict_idif = {\n",
    "    \"input_func_fqfn\": idif,\n",
    "    \"tissue_fqfn\": pet,\n",
    "    \"v1_fqfn\": v1_idif,\n",
    "    \"ks_fqfn\": ks_idif,\n",
    "    \"nlive\": 1000,\n",
    "    \"tag\": \"playground_Raichle1983_idif\"\n",
    "}\n",
    "data_dict_twil = {\n",
    "    \"kernel_fqfn\": kern,\n",
    "    \"input_func_fqfn\": twil,\n",
    "    \"tissue_fqfn\": pet,\n",
    "    \"v1_fqfn\": v1_twil,\n",
    "    \"ks_fqfn\": ks_twil,\n",
    "    \"nlive\": 1000,\n",
    "    \"tag\": \"playground_Raichle1983_twil\"\n",
    "}\n",
    "\n",
    "truth_idif = [2.02266859e-01, 1.30503331e+00, 7.19494722e-01, 1.00390665e+01, 9.82339382e+00, 1.74320833e+01, 1.72211248e-02]\n",
    "truth_twil = [0.51932539, 0.68335921, 0.70828213, 4.55715122, 3.82516299, 6.14729027, 0.03415969]\n",
    "mm_idif = Raichle1983Context(data_dict_idif)\n",
    "mm_twil = Raichle1983Context(data_dict_twil)\n",
    "\n",
    "parc_index = 25"
   ]
  },
  {
   "cell_type": "markdown",
   "id": "e343790186b626a",
   "metadata": {
    "collapsed": false
   },
   "source": [
    "## Inspect Raichle1983Context twil"
   ]
  },
  {
   "cell_type": "code",
   "execution_count": null,
   "id": "4d8916d6b6938779",
   "metadata": {
    "ExecuteTime": {
     "end_time": "2025-01-05T04:44:43.560607Z",
     "start_time": "2025-01-05T04:42:39.880351Z"
    },
    "collapsed": false
   },
   "outputs": [],
   "source": [
    "mm_twil.plotting.truths_plot(truths=truth_twil, parc_index=parc_index)"
   ]
  },
  {
   "cell_type": "markdown",
   "id": "3a95509c7dd19416",
   "metadata": {
    "collapsed": false
   },
   "source": [
    "Let's sample from this distribution using the default `dynesty` settings with `'slice'`."
   ]
  },
  {
   "cell_type": "code",
   "execution_count": 5,
   "id": "39013d92043865d3",
   "metadata": {
    "collapsed": false
   },
   "outputs": [],
   "source": [
    "# de novo, thalamus ~ 6, 25\n",
    "res_twil = mm_twil.solver.run_nested(print_progress=True, parc_index=range(10))"
   ]
  },
  {
   "cell_type": "code",
   "execution_count": null,
   "id": "5b08a82a",
   "metadata": {},
   "outputs": [],
   "source": [
    "mm_twil.plotting.results_plot(tag=\"playground_Raichle1983_twil\", parc_index=9)"
   ]
  },
  {
   "cell_type": "code",
   "execution_count": null,
   "id": "1936c252",
   "metadata": {},
   "outputs": [],
   "source": [
    "mm_twil.plotting.parcs_plot()"
   ]
  },
  {
   "cell_type": "markdown",
   "id": "3e11ecb8131437a4",
   "metadata": {
    "collapsed": false
   },
   "source": [
    "## Inspect Raichle1983Context idif"
   ]
  },
  {
   "cell_type": "code",
   "execution_count": null,
   "id": "fe1fc8ad9a731ba2",
   "metadata": {
    "collapsed": false
   },
   "outputs": [],
   "source": [
    "mm_idif.plotting.truths_plot(truths=truth_idif, parc_index=parc_index)"
   ]
  },
  {
   "cell_type": "markdown",
   "id": "cd16f0ee7ed9a4cb",
   "metadata": {
    "collapsed": false
   },
   "source": [
    "Let's sample from this distribution using the default `dynesty` settings with `'slice'`."
   ]
  },
  {
   "cell_type": "code",
   "execution_count": 9,
   "id": "6c5f0c9ac49142cf",
   "metadata": {
    "collapsed": false
   },
   "outputs": [],
   "source": [
    "# de novo, thalamus ~ 6, 25\n",
    "res_idif = mm_idif.solver.run_nested(print_progress=True, parc_index=range(10))"
   ]
  },
  {
   "cell_type": "code",
   "execution_count": null,
   "id": "bdf7434a",
   "metadata": {},
   "outputs": [],
   "source": [
    "mm_idif.plotting.results_plot(tag=\"playground_Raichle1983_idif\", parc_index=9)"
   ]
  },
  {
   "cell_type": "code",
   "execution_count": null,
   "id": "b2931798",
   "metadata": {},
   "outputs": [],
   "source": [
    "mm_idif.plotting.parcs_plot()"
   ]
  },
  {
   "cell_type": "code",
   "execution_count": null,
   "id": "c99bdd29",
   "metadata": {},
   "outputs": [],
   "source": [
    "mm_twil.data.print_truths()\n",
    "mm_idif.data.print_truths()"
   ]
  },
  {
   "cell_type": "code",
   "execution_count": null,
   "id": "ef4b3883",
   "metadata": {},
   "outputs": [],
   "source": [
    "pprint(mm_twil.solver.truths)\n",
    "pprint(mm_idif.solver.truths)"
   ]
  }
 ],
 "metadata": {
  "kernelspec": {
   "display_name": "Python 3",
   "language": "python",
   "name": "python3"
  },
  "language_info": {
   "codemirror_mode": {
    "name": "ipython",
    "version": 3
   },
   "file_extension": ".py",
   "mimetype": "text/x-python",
   "name": "python",
   "nbconvert_exporter": "python",
   "pygments_lexer": "ipython3",
   "version": "3.12.8"
  }
 },
 "nbformat": 4,
 "nbformat_minor": 5
}
