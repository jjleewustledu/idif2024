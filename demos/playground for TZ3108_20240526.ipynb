{
 "cells": [
  {
   "cell_type": "markdown",
   "source": "# TZ3108 is an [18F] Tracer Studied in Non-human Primates",
   "metadata": {
    "collapsed": false
   },
   "id": "362fa90fac6d39b0"
  },
  {
   "cell_type": "markdown",
   "source": [
    "## Setup"
   ],
   "metadata": {
    "collapsed": false
   },
   "id": "16e2061ef24e2ad7"
  },
  {
   "cell_type": "code",
   "source": [
    "# system functions that are always useful to have\n",
    "import time, sys, os\n",
    "from pprint import pprint\n",
    "\n",
    "# basic numeric setup\n",
    "import numpy as np\n",
    "from matplotlib import pyplot as plt\n",
    "\n",
    "from Huang1980Model import Huang1980Model\n",
    "from Ichise2002VascModel import Ichise2002VascModel\n",
    "from Ichise2002Model import Ichise2002Model\n",
    "from TZ3108 import TZ3108"
   ],
   "metadata": {
    "collapsed": false,
    "ExecuteTime": {
     "end_time": "2024-05-26T01:59:03.758663Z",
     "start_time": "2024-05-26T01:59:03.267124Z"
    }
   },
   "id": "ba221cabcbc6f99a",
   "execution_count": 1,
   "outputs": []
  },
  {
   "cell_type": "code",
   "source": [
    "# define data & models\n",
    "petdir = os.path.join(os.getenv(\"SINGULARITY_HOME\"), \"TZ3108\", \"derivatives\", \"sub-ollie\", \"ses-20230516\", \"pet\")\n",
    "twil = os.path.join(petdir, \"sub-ollie_ses-20230516_trc-tz3108_proc-verified-aif.nii.gz\")\n",
    "pet = os.path.join(petdir, \"sub-ollie_ses-20230516_trc-tz3108_proc-verified-tacs.nii.gz\")\n",
    "\n",
    "huang = TZ3108(twil,\n",
    "               pet,\n",
    "               truths=[0.3, 0.001, 0.005, 0.0003, 0, 0, 0.021],\n",
    "               nlive=30,\n",
    "               tag=\"main-tz3108-huang-30\",\n",
    "               model=\"Huang1980Model\",\n",
    "               delta_time=1)\n",
    "%matplotlib inline\n",
    "plt.figure()\n",
    "plt.plot(huang.data(huang.truths)[\"inputFuncInterp\"])\n",
    "plt.figure()\n",
    "plt.plot(huang.data(huang.truths)[\"rho\"])\n",
    "\n",
    "# Parameter 0: 0.476 [0.423, 0.499]\n",
    "# Parameter 1: 0.094 [0.082, 0.100]\n",
    "# Parameter 2: 0.005 [0.005, 0.005]\n",
    "# Parameter 3: 0.000 [0.000, 0.000]\n",
    "# Parameter 4: 9.066 [7.285, 10.642]\n",
    "# Parameter 5: -43.959 [-45.842, -41.835]\n",
    "# Parameter 6: 0.021 [0.020, 0.023]\n",
    "\n",
    "ichise_vasc = TZ3108(twil,\n",
    "                     pet,\n",
    "                     truths=[0.3, 0.004, 1e-6, 5e-4, 0.02, 90, 0, 0.021],\n",
    "                     nlive=30,\n",
    "                     tag=\"main-tz3108-ichise-vasc-30\",\n",
    "                     model=\"Ichise2002VascModel\",\n",
    "                     delta_time=8)\n",
    "%matplotlib inline\n",
    "plt.figure()\n",
    "plt.plot(ichise_vasc.data(ichise_vasc.truths)[\"inputFuncInterp\"])\n",
    "plt.figure()\n",
    "plt.plot(ichise_vasc.data(ichise_vasc.truths)[\"rho\"])\n",
    "\n",
    "# Parameter 0: 0.729 [0.581, 0.891]\n",
    "# Parameter 1: 0.000 [0.000, 0.000]\n",
    "# Parameter 2: 0.000 [0.000, 0.000]\n",
    "# Parameter 3: 0.000 [0.000, 0.000]\n",
    "# Parameter 4: 0.023 [0.018, 0.028]\n",
    "# Parameter 5: 50.280 [2.929, 96.683]\n",
    "# Parameter 6: -43.808 [-52.446, -0.624]\n",
    "\n",
    "\n",
    "\n",
    "\n",
    "\n",
    "\n",
    "parc_index = 1  # whole brain"
   ],
   "metadata": {
    "collapsed": false,
    "ExecuteTime": {
     "end_time": "2024-05-26T02:12:03.198892Z",
     "start_time": "2024-05-26T02:12:02.944603Z"
    }
   },
   "id": "d423b513e51290f3",
   "execution_count": 30,
   "outputs": []
  },
  {
   "cell_type": "markdown",
   "source": [
    "## Inspect Huang1980Model twil"
   ],
   "metadata": {
    "collapsed": false
   },
   "id": "e343790186b626a"
  },
  {
   "cell_type": "code",
   "source": [
    "v = huang.truths\n",
    "pprint(\"===================================== v ======================================\")\n",
    "pprint(v)\n",
    "\n",
    "data = huang.data(v)\n",
    "pprint(\"==================================== data ====================================\")\n",
    "pprint(data)"
   ],
   "metadata": {
    "collapsed": false,
    "ExecuteTime": {
     "end_time": "2024-05-26T01:59:20.456483Z",
     "start_time": "2024-05-26T01:59:20.448499Z"
    }
   },
   "id": "bb04b5521ac8a607",
   "execution_count": 7,
   "outputs": []
  },
  {
   "cell_type": "code",
   "source": [
    "pprint(\"============================== huang.data2t(data) ===============================\")\n",
    "pprint(huang.data2t(data))\n",
    "pprint(\"============================= huang.data2taus(data) =============================\")\n",
    "pprint(huang.data2taus(data))\n",
    "pprint(\"=========================== huang.data2timesMid(data) ===========================\")\n",
    "pprint(huang.data2timesMid(data))\n",
    "pprint(\"================================== huang.fqfp ===================================\")\n",
    "pprint(huang.fqfp)\n",
    "pprint(\"========================== huang.input_function() =========================\")\n",
    "pprint(huang.input_function())\n",
    "pprint(\"================================= huang.labels ==================================\")\n",
    "pprint(huang.labels)\n",
    "pprint(\"====================== huang.load_nii(huang.fqfp + '.nii.gz') ======================\")\n",
    "pprint(huang.load_nii(huang.fqfp + \".nii.gz\"))\n",
    "pprint(\"=============================== huang.loglike(v) ================================\")\n",
    "pprint(huang.loglike(v))\n",
    "pprint(\"================================== huang.ndim ===================================\")\n",
    "pprint(huang.ndim)\n",
    "pprint(\"========================= huang.parse_halflife(huang.fqfp) =========================\")\n",
    "pprint(huang.parse_halflife(huang.fqfp))\n",
    "pprint(\"========================= huang.parse_isotope(huang.fqfp) ==========================\")\n",
    "pprint(huang.parse_isotope(huang.fqfp))\n",
    "pprint(\"================================== huang.sigma ==================================\")\n",
    "pprint(huang.sigma)\n",
    "pprint(\"============================ huang.signalmodel(data) ============================\")\n",
    "pprint(huang.signalmodel(data))\n",
    "\n",
    "%matplotlib inline\n",
    "rho, timesMid, rho_t, times, rho_os, rho_p = huang.signalmodel(data, verbose=True)\n",
    "plt.figure()\n",
    "plt.plot(rho_p)\n",
    "plt.figure()\n",
    "plt.plot(rho_os)\n",
    "plt.figure()\n",
    "plt.plot(rho_t)\n",
    "plt.figure()\n",
    "plt.plot(rho)"
   ],
   "metadata": {
    "collapsed": false,
    "ExecuteTime": {
     "end_time": "2024-05-26T01:59:21.512546Z",
     "start_time": "2024-05-26T01:59:21.094990Z"
    }
   },
   "id": "576b095cc6eceffe",
   "execution_count": 8,
   "outputs": []
  },
  {
   "cell_type": "markdown",
   "source": [
    "## Plot Huang1980Model twil"
   ],
   "metadata": {
    "collapsed": false
   },
   "id": "7d6d4379edb29667"
  },
  {
   "metadata": {
    "ExecuteTime": {
     "end_time": "2024-05-26T01:59:23.180969Z",
     "start_time": "2024-05-26T01:59:23.001365Z"
    }
   },
   "cell_type": "code",
   "source": "huang.plot_truths(parc_index=parc_index)",
   "id": "4d8916d6b6938779",
   "execution_count": 9,
   "outputs": []
  },
  {
   "metadata": {
    "ExecuteTime": {
     "end_time": "2024-05-26T01:59:24.805780Z",
     "start_time": "2024-05-26T01:59:24.803038Z"
    }
   },
   "cell_type": "code",
   "source": "huang.truths",
   "id": "64d6440fdc491c57",
   "execution_count": 10,
   "outputs": []
  },
  {
   "cell_type": "code",
   "source": "huang.plot_variations(3, 0.0003, 0.001, huang.truths)",
   "metadata": {
    "collapsed": false,
    "ExecuteTime": {
     "end_time": "2024-05-26T02:01:10.859203Z",
     "start_time": "2024-05-26T02:01:04.917982Z"
    }
   },
   "id": "dbe964fb2c373a25",
   "execution_count": 13,
   "outputs": []
  },
  {
   "cell_type": "markdown",
   "source": "Let's sample from this distribution using the default `dynesty` settings with `'slice'`.",
   "metadata": {
    "collapsed": false
   },
   "id": "3a95509c7dd19416"
  },
  {
   "cell_type": "code",
   "source": [
    "# de novo\n",
    "res_twil = huang.run_nested_for_indexed_tac(parc_index, print_progress=True)\n",
    "huang.save_results(res_twil, \"playground-for-TZ3108-Huang\")\n",
    "\n",
    "# # restart\n",
    "# sampler = dynesty.DynamicNestedSampler.restore(huang.fqfp+\"_dynesty-Boxcar-20240122210738.save\")\n",
    "# sampler.run_nested(resume=True, print_progress=True)\n",
    "# res = sampler.results"
   ],
   "metadata": {
    "collapsed": false,
    "ExecuteTime": {
     "end_time": "2024-05-26T01:13:40.542924Z",
     "start_time": "2024-05-26T01:13:37.730102Z"
    }
   },
   "id": "39013d92043865d3",
   "execution_count": 57,
   "outputs": []
  },
  {
   "cell_type": "markdown",
   "source": "## Inspect Ichise2002VascModel twil",
   "metadata": {
    "collapsed": false
   },
   "id": "3e11ecb8131437a4"
  },
  {
   "cell_type": "code",
   "source": [
    "v = ichise_vasc.truths\n",
    "pprint(\"===================================== v ======================================\")\n",
    "pprint(v)\n",
    "\n",
    "data = ichise_vasc.data(v)\n",
    "pprint(\"==================================== data ====================================\")\n",
    "pprint(data)"
   ],
   "metadata": {
    "collapsed": false,
    "ExecuteTime": {
     "end_time": "2024-05-26T02:12:19.171039Z",
     "start_time": "2024-05-26T02:12:19.163129Z"
    }
   },
   "id": "c36769ac3ee3f5dc",
   "execution_count": 31,
   "outputs": []
  },
  {
   "cell_type": "code",
   "source": [
    "pprint(\"============================== ichise_vasc.data2t(data) ===============================\")\n",
    "pprint(ichise_vasc.data2t(data))\n",
    "pprint(\"============================= ichise_vasc.data2taus(data) =============================\")\n",
    "pprint(ichise_vasc.data2taus(data))\n",
    "pprint(\"=========================== ichise_vasc.data2timesMid(data) ===========================\")\n",
    "pprint(ichise_vasc.data2timesMid(data))\n",
    "pprint(\"================================== ichise_vasc.fqfp ===================================\")\n",
    "pprint(ichise_vasc.fqfp)\n",
    "pprint(\"========================== ichise_vasc.input_function() =========================\")\n",
    "pprint(ichise_vasc.input_function())\n",
    "pprint(\"================================= ichise_vasc.labels ==================================\")\n",
    "pprint(ichise_vasc.labels)\n",
    "pprint(\"====================== ichise_vasc.load_nii(ichise_vasc.fqfp + '.nii.gz') ======================\")\n",
    "pprint(ichise_vasc.load_nii(ichise_vasc.fqfp + \".nii.gz\"))\n",
    "# pprint(\"=============================== ichise_vasc.loglike(v) ================================\")\n",
    "# pprint(ichise_vasc.loglike(v))\n",
    "pprint(\"================================== ichise_vasc.ndim ===================================\")\n",
    "pprint(ichise_vasc.ndim)\n",
    "pprint(\"========================= ichise_vasc.parse_halflife(ichise_vasc.fqfp) =========================\")\n",
    "pprint(ichise_vasc.parse_halflife(ichise_vasc.fqfp))\n",
    "pprint(\"========================= ichise_vasc.parse_isotope(ichise_vasc.fqfp) ==========================\")\n",
    "pprint(ichise_vasc.parse_isotope(ichise_vasc.fqfp))\n",
    "pprint(\"================================== ichise_vasc.sigma ==================================\")\n",
    "pprint(ichise_vasc.sigma)\n",
    "pprint(\"============================ ichise_vasc.signalmodel(data) ============================\")\n",
    "pprint(ichise_vasc.signalmodel(data))\n",
    "\n",
    "%matplotlib inline\n",
    "rho, timesMid, rho_t, times, rho_os, rho_p = ichise_vasc.signalmodel(data, verbose=True)\n",
    "plt.figure()\n",
    "plt.plot(rho_p)\n",
    "plt.figure()\n",
    "plt.plot(rho_os)\n",
    "plt.figure()\n",
    "plt.plot(rho_t)\n",
    "plt.figure()\n",
    "plt.plot(rho)"
   ],
   "metadata": {
    "collapsed": false,
    "ExecuteTime": {
     "end_time": "2024-05-26T02:12:20.373504Z",
     "start_time": "2024-05-26T02:12:20.096601Z"
    }
   },
   "id": "1512f03b4d8554c5",
   "execution_count": 32,
   "outputs": []
  },
  {
   "cell_type": "markdown",
   "source": "## Plot Ichise2002VascModel twil",
   "metadata": {
    "collapsed": false
   },
   "id": "4aee06562abf9bbf"
  },
  {
   "cell_type": "code",
   "source": "ichise_vasc.plot_truths(parc_index=parc_index)",
   "metadata": {
    "collapsed": false,
    "ExecuteTime": {
     "end_time": "2024-05-26T02:12:22.063306Z",
     "start_time": "2024-05-26T02:12:21.910224Z"
    }
   },
   "id": "fe1fc8ad9a731ba2",
   "execution_count": 33,
   "outputs": []
  },
  {
   "metadata": {
    "ExecuteTime": {
     "end_time": "2024-05-26T02:12:25.471248Z",
     "start_time": "2024-05-26T02:12:25.468818Z"
    }
   },
   "cell_type": "code",
   "source": "ichise_vasc.truths",
   "id": "d7397dac2e3a837f",
   "execution_count": 34,
   "outputs": []
  },
  {
   "cell_type": "code",
   "source": "ichise_vasc.plot_variations(3, 0.0005, 0.001, ichise_vasc.truths)",
   "metadata": {
    "collapsed": false,
    "ExecuteTime": {
     "end_time": "2024-05-26T02:12:30.840804Z",
     "start_time": "2024-05-26T02:12:26.648225Z"
    }
   },
   "id": "3009107551f79f4",
   "execution_count": 35,
   "outputs": []
  },
  {
   "cell_type": "markdown",
   "source": [
    "Let's sample from this distribution using the default `dynesty` settings with `'slice'`."
   ],
   "metadata": {
    "collapsed": false
   },
   "id": "cd16f0ee7ed9a4cb"
  },
  {
   "cell_type": "code",
   "source": [
    "# de novo\n",
    "res_idif = ichise_vasc.run_nested_for_indexed_tac(parc_index, print_progress=True)\n",
    "ichise_vasc.save_results(res_idif, \"playground-for-TZ3108-Ichise\")\n",
    "\n",
    "# # restart\n",
    "# sampler = dynesty.DynamicNestedSampler.restore(ichise_vasc.fqfp+\"_dynesty-Boxcar-20240122210738.save\")\n",
    "# sampler.run_nested(resume=True, print_progress=True)\n",
    "# res = sampler.results"
   ],
   "metadata": {
    "collapsed": false,
    "ExecuteTime": {
     "end_time": "2024-05-26T21:34:57.255004Z",
     "start_time": "2024-05-26T02:12:40.825952Z"
    }
   },
   "id": "6c5f0c9ac49142cf",
   "execution_count": 36,
   "outputs": []
  },
  {
   "metadata": {},
   "cell_type": "code",
   "execution_count": null,
   "source": "",
   "id": "bc031600b35fc708",
   "outputs": []
  }
 ],
 "metadata": {
  "kernelspec": {
   "display_name": "Python 3",
   "language": "python",
   "name": "python3"
  },
  "language_info": {
   "codemirror_mode": {
    "name": "ipython",
    "version": 2
   },
   "file_extension": ".py",
   "mimetype": "text/x-python",
   "name": "python",
   "nbconvert_exporter": "python",
   "pygments_lexer": "ipython2",
   "version": "2.7.6"
  }
 },
 "nbformat": 4,
 "nbformat_minor": 5
}
