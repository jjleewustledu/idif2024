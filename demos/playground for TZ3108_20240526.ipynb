{
 "cells": [
  {
   "cell_type": "markdown",
   "id": "362fa90fac6d39b0",
   "metadata": {
    "collapsed": false
   },
   "source": [
    "# TZ3108 is an [18F] Tracer Studied in Non-human Primates"
   ]
  },
  {
   "cell_type": "markdown",
   "id": "16e2061ef24e2ad7",
   "metadata": {
    "collapsed": false
   },
   "source": [
    "## Setup"
   ]
  },
  {
   "cell_type": "code",
   "execution_count": 1,
   "id": "ba221cabcbc6f99a",
   "metadata": {
    "ExecuteTime": {
     "end_time": "2024-05-26T01:59:03.758663Z",
     "start_time": "2024-05-26T01:59:03.267124Z"
    },
    "collapsed": false
   },
   "outputs": [],
   "source": [
    "# system functions that are always useful to have\n",
    "import time, sys, os\n",
    "from pprint import pprint\n",
    "\n",
    "# basic numeric setup\n",
    "import numpy as np\n",
    "from matplotlib import pyplot as plt\n",
    "\n",
    "from Huang1980Model import Huang1980Model\n",
    "from Ichise2002VascModel import Ichise2002VascModel\n",
    "from Ichise2002Model import Ichise2002Model\n",
    "from TZ3108 import TZ3108"
   ]
  },
  {
   "cell_type": "code",
   "execution_count": 30,
   "id": "d423b513e51290f3",
   "metadata": {
    "ExecuteTime": {
     "end_time": "2024-05-26T02:12:03.198892Z",
     "start_time": "2024-05-26T02:12:02.944603Z"
    },
    "collapsed": false
   },
   "outputs": [],
   "source": [
    "# define data & models\n",
    "petdir = os.path.join(os.getenv(\"SINGULARITY_HOME\"), \"TZ3108\", \"derivatives\", \"sub-ollie\", \"ses-20230516\", \"pet\")\n",
    "twil = os.path.join(petdir, \"sub-ollie_ses-20230516_trc-tz3108_proc-verified-aif.nii.gz\")\n",
    "pet = os.path.join(petdir, \"sub-ollie_ses-20230516_trc-tz3108_proc-verified-tacs.nii.gz\")\n",
    "\n",
    "huang = TZ3108(twil,\n",
    "               pet,\n",
    "               truths=[0.3, 0.001, 0.005, 0.0003, 0, 0, 0.021],\n",
    "               nlive=30,\n",
    "               tag=\"main-tz3108-huang-30\",\n",
    "               model=\"Huang1980Model\",\n",
    "               delta_time=1)\n",
    "%matplotlib inline\n",
    "plt.figure()\n",
    "plt.plot(huang.data(huang.truths)[\"inputFuncInterp\"])\n",
    "plt.figure()\n",
    "plt.plot(huang.data(huang.truths)[\"rho\"])\n",
    "\n",
    "# Parameter 0: 0.476 [0.423, 0.499]\n",
    "# Parameter 1: 0.094 [0.082, 0.100]\n",
    "# Parameter 2: 0.005 [0.005, 0.005]\n",
    "# Parameter 3: 0.000 [0.000, 0.000]\n",
    "# Parameter 4: 9.066 [7.285, 10.642]\n",
    "# Parameter 5: -43.959 [-45.842, -41.835]\n",
    "# Parameter 6: 0.021 [0.020, 0.023]\n",
    "\n",
    "ichise_vasc = TZ3108(twil,\n",
    "                     pet,\n",
    "                     truths=[0.3, 0.004, 1e-6, 5e-4, 0.02, 90, 0, 0.021],\n",
    "                     nlive=30,\n",
    "                     tag=\"main-tz3108-ichise-vasc-30\",\n",
    "                     model=\"Ichise2002VascModel\",\n",
    "                     delta_time=8)\n",
    "%matplotlib inline\n",
    "plt.figure()\n",
    "plt.plot(ichise_vasc.data(ichise_vasc.truths)[\"inputFuncInterp\"])\n",
    "plt.figure()\n",
    "plt.plot(ichise_vasc.data(ichise_vasc.truths)[\"rho\"])\n",
    "\n",
    "# Parameter 0: 0.729 [0.581, 0.891]\n",
    "# Parameter 1: 0.000 [0.000, 0.000]\n",
    "# Parameter 2: 0.000 [0.000, 0.000]\n",
    "# Parameter 3: 0.000 [0.000, 0.000]\n",
    "# Parameter 4: 0.023 [0.018, 0.028]\n",
    "# Parameter 5: 50.280 [2.929, 96.683]\n",
    "# Parameter 6: -43.808 [-52.446, -0.624]\n",
    "\n",
    "\n",
    "\n",
    "\n",
    "\n",
    "\n",
    "parc_index = 1  # whole brain"
   ]
  },
  {
   "cell_type": "markdown",
   "id": "e343790186b626a",
   "metadata": {
    "collapsed": false
   },
   "source": [
    "## Inspect Huang1980Model twil"
   ]
  },
  {
   "cell_type": "code",
   "execution_count": 7,
   "id": "bb04b5521ac8a607",
   "metadata": {
    "ExecuteTime": {
     "end_time": "2024-05-26T01:59:20.456483Z",
     "start_time": "2024-05-26T01:59:20.448499Z"
    },
    "collapsed": false
   },
   "outputs": [],
   "source": [
    "v = huang.truths\n",
    "pprint(\"===================================== v ======================================\")\n",
    "pprint(v)\n",
    "\n",
    "data = huang.data(v)\n",
    "pprint(\"==================================== data ====================================\")\n",
    "pprint(data)"
   ]
  },
  {
   "cell_type": "code",
   "execution_count": 8,
   "id": "576b095cc6eceffe",
   "metadata": {
    "ExecuteTime": {
     "end_time": "2024-05-26T01:59:21.512546Z",
     "start_time": "2024-05-26T01:59:21.094990Z"
    },
    "collapsed": false
   },
   "outputs": [],
   "source": [
    "pprint(\"============================== huang.data2times(data) ===============================\")\n",
    "pprint(huang.data2times(data))\n",
    "pprint(\"============================= huang.data2taus(data) =============================\")\n",
    "pprint(huang.data2taus(data))\n",
    "pprint(\"=========================== huang.data2timesMid(data) ===========================\")\n",
    "pprint(huang.data2timesMid(data))\n",
    "pprint(\"================================== huang.fqfp ===================================\")\n",
    "pprint(huang.fqfp)\n",
    "pprint(\"========================== huang.input_function() =========================\")\n",
    "pprint(huang.input_function())\n",
    "pprint(\"================================= huang.labels ==================================\")\n",
    "pprint(huang.labels)\n",
    "pprint(\"====================== huang.load_nii(huang.fqfp + '.nii.gz') ======================\")\n",
    "pprint(huang.load_nii(huang.fqfp + \".nii.gz\"))\n",
    "pprint(\"=============================== huang.loglike(v) ================================\")\n",
    "pprint(huang.loglike(v))\n",
    "pprint(\"================================== huang.ndim ===================================\")\n",
    "pprint(huang.ndim)\n",
    "pprint(\"========================= huang.parse_halflife(huang.fqfp) =========================\")\n",
    "pprint(huang.parse_halflife(huang.fqfp))\n",
    "pprint(\"========================= huang.parse_isotope(huang.fqfp) ==========================\")\n",
    "pprint(huang.parse_isotope(huang.fqfp))\n",
    "pprint(\"================================== huang.sigma ==================================\")\n",
    "pprint(huang.sigma)\n",
    "pprint(\"============================ huang.signalmodel(data) ============================\")\n",
    "pprint(huang.signalmodel(data))\n",
    "\n",
    "%matplotlib inline\n",
    "rho, timesMid, rho_t, times, rho_os, rho_p = huang.signalmodel(data, verbose=True)\n",
    "plt.figure()\n",
    "plt.plot(rho_p)\n",
    "plt.figure()\n",
    "plt.plot(rho_os)\n",
    "plt.figure()\n",
    "plt.plot(rho_t)\n",
    "plt.figure()\n",
    "plt.plot(rho)"
   ]
  },
  {
   "cell_type": "markdown",
   "id": "7d6d4379edb29667",
   "metadata": {
    "collapsed": false
   },
   "source": [
    "## Plot Huang1980Model twil"
   ]
  },
  {
   "cell_type": "code",
   "execution_count": 9,
   "id": "4d8916d6b6938779",
   "metadata": {
    "ExecuteTime": {
     "end_time": "2024-05-26T01:59:23.180969Z",
     "start_time": "2024-05-26T01:59:23.001365Z"
    }
   },
   "outputs": [],
   "source": [
    "huang.plot_truths(parc_index=parc_index)"
   ]
  },
  {
   "cell_type": "code",
   "execution_count": 10,
   "id": "64d6440fdc491c57",
   "metadata": {
    "ExecuteTime": {
     "end_time": "2024-05-26T01:59:24.805780Z",
     "start_time": "2024-05-26T01:59:24.803038Z"
    }
   },
   "outputs": [],
   "source": [
    "huang.truths"
   ]
  },
  {
   "cell_type": "code",
   "execution_count": 13,
   "id": "dbe964fb2c373a25",
   "metadata": {
    "ExecuteTime": {
     "end_time": "2024-05-26T02:01:10.859203Z",
     "start_time": "2024-05-26T02:01:04.917982Z"
    },
    "collapsed": false
   },
   "outputs": [],
   "source": [
    "huang.plot_variations(3, 0.0003, 0.001, huang.truths)"
   ]
  },
  {
   "cell_type": "markdown",
   "id": "3a95509c7dd19416",
   "metadata": {
    "collapsed": false
   },
   "source": [
    "Let's sample from this distribution using the default `dynesty` settings with `'slice'`."
   ]
  },
  {
   "cell_type": "code",
   "execution_count": 57,
   "id": "39013d92043865d3",
   "metadata": {
    "ExecuteTime": {
     "end_time": "2024-05-26T01:13:40.542924Z",
     "start_time": "2024-05-26T01:13:37.730102Z"
    },
    "collapsed": false
   },
   "outputs": [],
   "source": [
    "# de novo\n",
    "res_twil = huang.run_nested_for_indexed_tac(parc_index, print_progress=True)\n",
    "huang.save_results(res_twil, \"playground-for-TZ3108-Huang\")\n",
    "\n",
    "# # restart\n",
    "# sampler = dynesty.DynamicNestedSampler.restore(huang.fqfp+\"_dynesty-Boxcar-20240122210738.save\")\n",
    "# sampler.run_nested(resume=True, print_progress=True)\n",
    "# res = sampler.results"
   ]
  },
  {
   "cell_type": "markdown",
   "id": "3e11ecb8131437a4",
   "metadata": {
    "collapsed": false
   },
   "source": [
    "## Inspect Ichise2002VascModel twil"
   ]
  },
  {
   "cell_type": "code",
   "execution_count": 31,
   "id": "c36769ac3ee3f5dc",
   "metadata": {
    "ExecuteTime": {
     "end_time": "2024-05-26T02:12:19.171039Z",
     "start_time": "2024-05-26T02:12:19.163129Z"
    },
    "collapsed": false
   },
   "outputs": [],
   "source": [
    "v = ichise_vasc.truths\n",
    "pprint(\"===================================== v ======================================\")\n",
    "pprint(v)\n",
    "\n",
    "data = ichise_vasc.data(v)\n",
    "pprint(\"==================================== data ====================================\")\n",
    "pprint(data)"
   ]
  },
  {
   "cell_type": "code",
   "execution_count": 32,
   "id": "1512f03b4d8554c5",
   "metadata": {
    "ExecuteTime": {
     "end_time": "2024-05-26T02:12:20.373504Z",
     "start_time": "2024-05-26T02:12:20.096601Z"
    },
    "collapsed": false
   },
   "outputs": [],
   "source": [
    "pprint(\"============================== ichise_vasc.data2times(data) ===============================\")\n",
    "pprint(ichise_vasc.data2times(data))\n",
    "pprint(\"============================= ichise_vasc.data2taus(data) =============================\")\n",
    "pprint(ichise_vasc.data2taus(data))\n",
    "pprint(\"=========================== ichise_vasc.data2timesMid(data) ===========================\")\n",
    "pprint(ichise_vasc.data2timesMid(data))\n",
    "pprint(\"================================== ichise_vasc.fqfp ===================================\")\n",
    "pprint(ichise_vasc.fqfp)\n",
    "pprint(\"========================== ichise_vasc.input_function() =========================\")\n",
    "pprint(ichise_vasc.input_function())\n",
    "pprint(\"================================= ichise_vasc.labels ==================================\")\n",
    "pprint(ichise_vasc.labels)\n",
    "pprint(\"====================== ichise_vasc.load_nii(ichise_vasc.fqfp + '.nii.gz') ======================\")\n",
    "pprint(ichise_vasc.load_nii(ichise_vasc.fqfp + \".nii.gz\"))\n",
    "# pprint(\"=============================== ichise_vasc.loglike(v) ================================\")\n",
    "# pprint(ichise_vasc.loglike(v))\n",
    "pprint(\"================================== ichise_vasc.ndim ===================================\")\n",
    "pprint(ichise_vasc.ndim)\n",
    "pprint(\"========================= ichise_vasc.parse_halflife(ichise_vasc.fqfp) =========================\")\n",
    "pprint(ichise_vasc.parse_halflife(ichise_vasc.fqfp))\n",
    "pprint(\"========================= ichise_vasc.parse_isotope(ichise_vasc.fqfp) ==========================\")\n",
    "pprint(ichise_vasc.parse_isotope(ichise_vasc.fqfp))\n",
    "pprint(\"================================== ichise_vasc.sigma ==================================\")\n",
    "pprint(ichise_vasc.sigma)\n",
    "pprint(\"============================ ichise_vasc.signalmodel(data) ============================\")\n",
    "pprint(ichise_vasc.signalmodel(data))\n",
    "\n",
    "%matplotlib inline\n",
    "rho, timesMid, rho_t, times, rho_os, rho_p = ichise_vasc.signalmodel(data, verbose=True)\n",
    "plt.figure()\n",
    "plt.plot(rho_p)\n",
    "plt.figure()\n",
    "plt.plot(rho_os)\n",
    "plt.figure()\n",
    "plt.plot(rho_t)\n",
    "plt.figure()\n",
    "plt.plot(rho)"
   ]
  },
  {
   "cell_type": "markdown",
   "id": "4aee06562abf9bbf",
   "metadata": {
    "collapsed": false
   },
   "source": [
    "## Plot Ichise2002VascModel twil"
   ]
  },
  {
   "cell_type": "code",
   "execution_count": 33,
   "id": "fe1fc8ad9a731ba2",
   "metadata": {
    "ExecuteTime": {
     "end_time": "2024-05-26T02:12:22.063306Z",
     "start_time": "2024-05-26T02:12:21.910224Z"
    },
    "collapsed": false
   },
   "outputs": [],
   "source": [
    "ichise_vasc.plot_truths(parc_index=parc_index)"
   ]
  },
  {
   "cell_type": "code",
   "execution_count": 34,
   "id": "d7397dac2e3a837f",
   "metadata": {
    "ExecuteTime": {
     "end_time": "2024-05-26T02:12:25.471248Z",
     "start_time": "2024-05-26T02:12:25.468818Z"
    }
   },
   "outputs": [],
   "source": [
    "ichise_vasc.truths"
   ]
  },
  {
   "cell_type": "code",
   "execution_count": 35,
   "id": "3009107551f79f4",
   "metadata": {
    "ExecuteTime": {
     "end_time": "2024-05-26T02:12:30.840804Z",
     "start_time": "2024-05-26T02:12:26.648225Z"
    },
    "collapsed": false
   },
   "outputs": [],
   "source": [
    "ichise_vasc.plot_variations(3, 0.0005, 0.001, ichise_vasc.truths)"
   ]
  },
  {
   "cell_type": "markdown",
   "id": "cd16f0ee7ed9a4cb",
   "metadata": {
    "collapsed": false
   },
   "source": [
    "Let's sample from this distribution using the default `dynesty` settings with `'slice'`."
   ]
  },
  {
   "cell_type": "code",
   "execution_count": 36,
   "id": "6c5f0c9ac49142cf",
   "metadata": {
    "ExecuteTime": {
     "end_time": "2024-05-26T21:34:57.255004Z",
     "start_time": "2024-05-26T02:12:40.825952Z"
    },
    "collapsed": false
   },
   "outputs": [],
   "source": [
    "# de novo\n",
    "res_idif = ichise_vasc.run_nested_for_indexed_tac(parc_index, print_progress=True)\n",
    "ichise_vasc.save_results(res_idif, \"playground-for-TZ3108-Ichise\")\n",
    "\n",
    "# # restart\n",
    "# sampler = dynesty.DynamicNestedSampler.restore(ichise_vasc.fqfp+\"_dynesty-Boxcar-20240122210738.save\")\n",
    "# sampler.run_nested(resume=True, print_progress=True)\n",
    "# res = sampler.results"
   ]
  },
  {
   "cell_type": "code",
   "execution_count": null,
   "id": "bc031600b35fc708",
   "metadata": {},
   "outputs": [],
   "source": []
  }
 ],
 "metadata": {
  "kernelspec": {
   "display_name": "Python 3",
   "language": "python",
   "name": "python3"
  },
  "language_info": {
   "codemirror_mode": {
    "name": "ipython",
    "version": 2
   },
   "file_extension": ".py",
   "mimetype": "text/x-python",
   "name": "python",
   "nbconvert_exporter": "python",
   "pygments_lexer": "ipython2",
   "version": "2.7.6"
  }
 },
 "nbformat": 4,
 "nbformat_minor": 5
}
