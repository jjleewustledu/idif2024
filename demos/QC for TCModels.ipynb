{
 "cells": [
  {
   "cell_type": "markdown",
   "source": [
    "# Quality Control for Tissue-Compartment Models"
   ],
   "metadata": {
    "collapsed": false
   },
   "id": "362fa90fac6d39b0"
  },
  {
   "cell_type": "markdown",
   "source": [
    "## Setup"
   ],
   "metadata": {
    "collapsed": false
   },
   "id": "16e2061ef24e2ad7"
  },
  {
   "cell_type": "code",
   "outputs": [],
   "source": [
    "# system functions that are always useful to have\n",
    "import time, sys, os\n",
    "from pprint import pprint\n",
    "\n",
    "# basic numeric setup\n",
    "import nibabel as nib\n",
    "import numpy as np\n",
    "import pickle\n",
    "\n",
    "from Boxcar import Boxcar\n",
    "from RadialArtery import RadialArtery\n",
    "from Raichle1983Model import Raichle1983Model\n",
    "from Mintun1984Model import Mintun1984Model\n",
    "from Huang1980Model import Huang1980Model\n",
    "from Ichise2002Model import Ichise2002Model"
   ],
   "metadata": {
    "collapsed": false
   },
   "id": "ba221cabcbc6f99a",
   "execution_count": null
  },
  {
   "cell_type": "markdown",
   "source": [
    "### <font color='orange'>_High-level definitions below configure QC to follow_</font>"
   ],
   "metadata": {
    "collapsed": false
   },
   "id": "82b4e8e42664fae7"
  },
  {
   "cell_type": "code",
   "outputs": [],
   "source": [
    "# define filesystems, and high-level identifiers\n",
    "sub = \"sub-108306\"\n",
    "ses = \"ses-20230227112148\"\n",
    "trc = \"trc-oo\"\n",
    "petdir = os.path.join(os.getenv(\"SINGULARITY_HOME\"), \"CCIR_01211\", \"derivatives\", sub, ses, \"pet\")\n",
    "assert os.path.isdir(petdir), f\"{petdir} not found\"\n",
    "\n",
    "kern = os.path.join(os.getenv(\"SINGULARITY_HOME\"), \"CCIR_01211\", \"sourcedata\", \"kernel_hct=41.1.nii.gz\")\n",
    "\n",
    "timeAppend = \"timeAppend-4\"\n",
    "MODEL = \"Mintun1984\"\n",
    "\n",
    "parc_index = 2  # csf ~ 2,3,10,11,15,21,22\n",
    "#parc_index = 6  # thalamus ~ 6, 25\n",
    "#parc_index = 1  # deep white ~ 1, 20\n",
    "#parc_index = 110  # cortex ~ 110 - 309\n",
    "\n",
    "tag = \"main7-rc1p85-3000\""
   ],
   "metadata": {
    "collapsed": false
   },
   "id": "50be7f2357ea0840",
   "execution_count": null
  },
  {
   "cell_type": "code",
   "outputs": [],
   "source": [
    "# define data files\n",
    "idif_0 = os.path.join(petdir, f\"{sub}_{ses}_{trc}_proc-MipIdif_idif.nii.gz\")\n",
    "twil_0 = os.path.join(petdir, f\"{sub}_{ses}_{trc}_proc-TwiliteKit-do-make-input-func-nomodel_inputfunc.nii.gz\")\n",
    "assert os.path.isfile(idif_0), f\"{idif_0} not found\"\n",
    "assert os.path.isfile(twil_0), f\"{twil_0} not found\"\n",
    "assert os.path.isfile(kern), f\"{kern} not found\"\n",
    "\n",
    "idif = os.path.join(petdir, f\"{sub}_{ses}_{trc}_proc-MipIdif_idif_dynesty-Boxcar-ideal.nii.gz\")\n",
    "twil = os.path.join(petdir, f\"{sub}_{ses}_{trc}_proc-TwiliteKit-do-make-input-func-nomodel_inputfunc_dynesty-RadialArtery-ideal.nii.gz\")\n",
    "assert os.path.isfile(idif), f\"{idif} not found\"\n",
    "assert os.path.isfile(twil), f\"{twil} not found\"\n",
    "\n",
    "pet = os.path.join(petdir, f\"{sub}_{ses}_{trc}_proc-delay0-BrainMoCo2-createNiftiMovingAvgFrames_{timeAppend}-ParcSchaeffer-reshape-to-schaeffer-schaeffer.nii.gz\")\n",
    "assert os.path.isfile(pet), f\"{pet} not found\"\n",
    "\n",
    "model_fp = f\"{sub}_{ses}_{trc}_proc-delay0-BrainMoCo2-createNiftiMovingAvgFrames_{timeAppend}-schaeffer-{MODEL}\"\n",
    "qm_idif = os.path.join(petdir, f\"{model_fp}Boxcar-{tag}-qm.nii.gz\")\n",
    "qm_twil = os.path.join(petdir, f\"{model_fp}Artery-{tag}-qm.nii.gz\")\n",
    "assert os.path.isfile(qm_idif), f\"{qm_idif} not found\"\n",
    "assert os.path.isfile(qm_twil), f\"{qm_twil} not found\"\n",
    "\n",
    "pickle_idif = os.path.join(petdir, f\"{model_fp}Boxcar-{tag}-res.pickle\")\n",
    "pickle_twil = os.path.join(petdir, f\"{model_fp}Artery-{tag}-res.pickle\")\n",
    "assert os.path.isfile(pickle_idif), f\"{pickle_idif} not found\"\n",
    "assert os.path.isfile(pickle_twil), f\"{pickle_twil} not found\"\n",
    "\n",
    "# define models\n",
    "\n",
    "nii_idif = nib.load(qm_idif)\n",
    "img_idif = nii_idif.get_fdata()\n",
    "nii_twil = nib.load(qm_twil)\n",
    "img_twil = nii_twil.get_fdata()"
   ],
   "metadata": {
    "collapsed": false
   },
   "id": "d423b513e51290f3",
   "execution_count": null
  },
  {
   "cell_type": "code",
   "outputs": [],
   "source": [
    "truths_idif = img_idif[parc_index,]\n",
    "truths_twil = img_twil[parc_index,]\n",
    "model_cls = globals()[MODEL+\"Model\"]\n",
    "mm_idif = model_cls(\n",
    "    idif, \n",
    "    pet,\n",
    "    truths=truths_idif,\n",
    "    nlive=30)\n",
    "mm_twil = model_cls(\n",
    "    twil, \n",
    "    pet,\n",
    "    truths=truths_twil,\n",
    "    nlive=30)"
   ],
   "metadata": {
    "collapsed": false
   },
   "id": "d9f37da32f6c4fd9",
   "execution_count": null
  },
  {
   "cell_type": "markdown",
   "source": [
    "## Inspect Mintun1984Model twil"
   ],
   "metadata": {
    "collapsed": false
   },
   "id": "e343790186b626a"
  },
  {
   "cell_type": "code",
   "outputs": [],
   "source": [
    "v = mm_twil.truths\n",
    "pprint(\"===================================== v ======================================\")\n",
    "pprint(v)\n",
    "\n",
    "data = mm_twil.data(v)\n",
    "pprint(\"==================================== data ====================================\")\n",
    "pprint(data)\n",
    "\n",
    "pprint(\"================================== mm_twil.martin_v1_measurement ===================================\")\n",
    "pprint(mm_twil.martin_v1_measurement)\n",
    "\n",
    "pprint(\"================================== mm_twil.raichle_ks_measurement ===================================\")\n",
    "pprint(mm_twil.raichle_ks_measurement)"
   ],
   "metadata": {
    "collapsed": false
   },
   "id": "3e1b81fb25057531",
   "execution_count": null
  },
  {
   "cell_type": "markdown",
   "source": [
    "## Plot Mintun1984Model twil"
   ],
   "metadata": {
    "collapsed": false
   },
   "id": "7d6d4379edb29667"
  },
  {
   "cell_type": "code",
   "outputs": [],
   "source": [
    "mm_twil.plot_truths(parc_index=parc_index)"
   ],
   "metadata": {
    "collapsed": false
   },
   "id": "4d8916d6b6938779",
   "execution_count": null
  },
  {
   "cell_type": "code",
   "outputs": [],
   "source": [
    "mm_twil.plot_variations(0, 0.14, 0.74, mm_twil.truths)"
   ],
   "metadata": {
    "collapsed": false
   },
   "id": "dbe964fb2c373a25",
   "execution_count": null
  },
  {
   "cell_type": "code",
   "outputs": [],
   "source": [
    "with open(pickle_twil, 'rb') as f:\n",
    "    package = pickle.load(f)"
   ],
   "metadata": {
    "collapsed": false
   },
   "id": "764e200793c333df",
   "execution_count": null
  },
  {
   "cell_type": "markdown",
   "source": [
    "Let's sample from this distribution using the default `dynesty` settings with `'slice'`."
   ],
   "metadata": {
    "collapsed": false
   },
   "id": "3a95509c7dd19416"
  },
  {
   "cell_type": "code",
   "outputs": [],
   "source": [
    "# de novo\n",
    "# res_twil = mm_twil.run_nested_for_indexed_tac(parc_index, print_progress=True)\n",
    "\n",
    "# # restart\n",
    "# sampler = dynesty.DynamicNestedSampler.restore(mm_twil.fqfp+\"_dynesty-Boxcar-20240122210738.save\")\n",
    "# sampler.run_nested(resume=True, print_progress=True)\n",
    "# res = sampler.results"
   ],
   "metadata": {
    "collapsed": false
   },
   "id": "39013d92043865d3",
   "execution_count": null
  },
  {
   "cell_type": "markdown",
   "source": [
    "## Inspect Mintun1984Model idif"
   ],
   "metadata": {
    "collapsed": false
   },
   "id": "3e11ecb8131437a4"
  },
  {
   "cell_type": "code",
   "outputs": [],
   "source": [
    "v = mm_idif.truths\n",
    "pprint(\"===================================== v ======================================\")\n",
    "pprint(v)\n",
    "\n",
    "data = mm_idif.data(v)\n",
    "pprint(\"==================================== data ====================================\")\n",
    "pprint(data)\n",
    "\n",
    "pprint(\"================================== mm_twil.martin_v1_measurement ===================================\")\n",
    "pprint(mm_idif.martin_v1_measurement)\n",
    "\n",
    "pprint(\"================================== mm_twil.raichle_ks_measurement ===================================\")\n",
    "pprint(mm_idif.raichle_ks_measurement)"
   ],
   "metadata": {
    "collapsed": false
   },
   "id": "81a246810f8079f8",
   "execution_count": null
  },
  {
   "cell_type": "markdown",
   "source": [
    "## Plot Mintun1984Model idif"
   ],
   "metadata": {
    "collapsed": false
   },
   "id": "4aee06562abf9bbf"
  },
  {
   "cell_type": "code",
   "outputs": [],
   "source": [
    "mm_idif.plot_truths(parc_index=parc_index)"
   ],
   "metadata": {
    "collapsed": false
   },
   "id": "fe1fc8ad9a731ba2",
   "execution_count": null
  },
  {
   "cell_type": "code",
   "outputs": [],
   "source": [
    "mm_idif.plot_variations(0, 0.14, 0.74, mm_idif.truths)"
   ],
   "metadata": {
    "collapsed": false
   },
   "id": "3009107551f79f4",
   "execution_count": null
  },
  {
   "cell_type": "code",
   "outputs": [],
   "source": [
    "with open(pickle_idif, 'rb') as f:\n",
    "    package = pickle.load(f)"
   ],
   "metadata": {
    "collapsed": false
   },
   "id": "f9f5a78b46ccb344",
   "execution_count": null
  },
  {
   "cell_type": "markdown",
   "source": [
    "Let's sample from this distribution using the default `dynesty` settings with `'slice'`."
   ],
   "metadata": {
    "collapsed": false
   },
   "id": "cd16f0ee7ed9a4cb"
  },
  {
   "cell_type": "code",
   "outputs": [],
   "source": [
    "# de novo\n",
    "# res_idif = mm_idif.run_nested_for_indexed_tac(parc_index, print_progress=True)\n",
    "\n",
    "# # restart\n",
    "# sampler = dynesty.DynamicNestedSampler.restore(mm_idif.fqfp+\"_dynesty-Boxcar-20240122210738.save\")\n",
    "# sampler.run_nested(resume=True, print_progress=True)\n",
    "# res = sampler.results"
   ],
   "metadata": {
    "collapsed": false
   },
   "id": "6c5f0c9ac49142cf",
   "execution_count": null
  }
 ],
 "metadata": {
  "kernelspec": {
   "display_name": "Python 3",
   "language": "python",
   "name": "python3"
  },
  "language_info": {
   "codemirror_mode": {
    "name": "ipython",
    "version": 2
   },
   "file_extension": ".py",
   "mimetype": "text/x-python",
   "name": "python",
   "nbconvert_exporter": "python",
   "pygments_lexer": "ipython2",
   "version": "2.7.6"
  }
 },
 "nbformat": 4,
 "nbformat_minor": 5
}
